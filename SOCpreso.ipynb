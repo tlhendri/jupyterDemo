{
 "cells": [
  {
   "cell_type": "markdown",
   "metadata": {},
   "source": [
    "<font size=\"10\" color=\"Blue\"><center>Python<center></font>"
   ]
  },
  {
   "cell_type": "code",
   "execution_count": null,
   "metadata": {},
   "outputs": [],
   "source": [
    "from IPython.display import Image\n",
    "from IPython.core.display import HTML \n",
    "Image(url= \"https://imgs.xkcd.com/comics/internal_monologues.png\")"
   ]
  },
  {
   "cell_type": "code",
   "execution_count": null,
   "metadata": {},
   "outputs": [],
   "source": [
    "<font size=\"10\">\n",
    "    <center>Intro</center>\n",
    "\n",
    "<IMG src=\"http://jupyter.org/assets/nav_logo.svg\">\n",
    "<IMG src=\"images/download.png\">\n",
    "</font>"
   ]
  },
  {
   "cell_type": "markdown",
   "metadata": {},
   "source": [
    "<font size=\"10\">\n",
    "    <center>Notebooks: the win? </center>\n",
    "\n",
    "<IMG src=\"http://jupyter.org/assets/nav_logo.svg\">\n",
    "<IMG src=\"images/download.png\">\n",
    "</font>"
   ]
  },
  {
   "cell_type": "code",
   "execution_count": null,
   "metadata": {},
   "outputs": [],
   "source": [
    "import ipaddress\n",
    "\n",
    "def string_to_ip(ipstring):\n",
    "    return ipaddress.ip_network(ipstring)"
   ]
  },
  {
   "cell_type": "code",
   "execution_count": null,
   "metadata": {},
   "outputs": [],
   "source": [
    "import pandas\n",
    "from zipfile import ZipFile\n",
    "with ZipFile('/Users/c266770/Downloads/GeoLite2-City-CSV_20181113.zip') as zip:\n",
    "    df_maxmind = pandas.read_csv(zip.open('GeoLite2-City-CSV_20181113/GeoLite2-City-Blocks-IPv4.csv'))\n",
    "    \n",
    "df_maxmind = df_maxmind.reset_index()\n",
    "df_maxmind['network'] = df_maxmind['network'].apply(string_to_ip)\n"
   ]
  },
  {
   "cell_type": "code",
   "execution_count": null,
   "metadata": {},
   "outputs": [],
   "source": [
    "df_maxmind.head(5)"
   ]
  },
  {
   "cell_type": "code",
   "execution_count": null,
   "metadata": {},
   "outputs": [],
   "source": [
    "import os\n",
    "import csv\n",
    "\n",
    "events = []\n",
    "directory = '/Users/c266770/Desktop/ids/'\n",
    "for root,dirs,files in os.walk(directory):\n",
    "    for file in files:\n",
    "        if file.endswith('.csv') and file.startswith('cisco'):\n",
    "            with open(directory+'/'+file) as csvfile:\n",
    "                idscsv = csv.reader(csvfile)\n",
    "                next(idscsv)\n",
    "                for row in idscsv:\n",
    "                    events.append((row[3],row[6]))"
   ]
  },
  {
   "cell_type": "code",
   "execution_count": null,
   "metadata": {},
   "outputs": [],
   "source": [
    "from collections import Counter\n",
    "bad_guys = []\n",
    "\n",
    "for idstuple in events:\n",
    "    if idstuple[0].startswith('40.'):\n",
    "        if idstuple[1].startswith('40.'):\n",
    "            continue\n",
    "        else:\n",
    "            bad_guys.append(idstuple[1])\n",
    "    else:\n",
    "        bad_guys.append(idstuple[0])\n",
    "\n",
    "worst_guys = {}\n",
    "for key,value in dict(Counter(bad_guys)).items():\n",
    "    worst_guys[key] = {}\n",
    "    worst_guys[key]['count'] = value"
   ]
  },
  {
   "cell_type": "code",
   "execution_count": null,
   "metadata": {},
   "outputs": [],
   "source": [
    "for bad_guy in worst_guys:\n",
    "    print(bad_guy)\n",
    "    df_temp = df_maxmind[df_maxmind.network.apply(lambda x: ipaddress.ip_address(bad_guy) in x)][[\"longitude\",\"latitude\"]]\n",
    "    df_temp = df_temp.reset_index()\n",
    "    worst_guys[bad_guy][\"longitude\"] = df_temp.at[0,\"longitude\"]\n",
    "    worst_guys[bad_guy][\"latitude\"] = df_temp.at[0,\"longitude\"]"
   ]
  },
  {
   "cell_type": "code",
   "execution_count": null,
   "metadata": {},
   "outputs": [],
   "source": [
    "#https://dev.maxmind.com/geoip/geoip2/geolite2/\n",
    "#This product includes GeoLite2 data created by MaxMind, available from\n",
    "#<a href=\"http://www.maxmind.com\">http://www.maxmind.com</a>\n",
    "import geoip2.database\n",
    "reader = geoip2.database.Reader('/Users/c266770/Downloads/GeoLite2-City_20181113/GeoLite2-City.mmdb')"
   ]
  },
  {
   "cell_type": "code",
   "execution_count": null,
   "metadata": {},
   "outputs": [],
   "source": [
    "for bad_guy in worst_guys:\n",
    "    #print(bad_guy)\n",
    "    response = reader.city(bad_guy)\n",
    "    worst_guys[bad_guy][\"longitude\"] = round(response.location.longitude,3)\n",
    "    worst_guys[bad_guy][\"latitude\"] = round(response.location.latitude,3)"
   ]
  },
  {
   "cell_type": "code",
   "execution_count": null,
   "metadata": {},
   "outputs": [],
   "source": [
    "location = []\n",
    "\n",
    "for bad_guy,values in worst_guys.items():\n",
    "    location.append((values['latitude'],values['longitude']))\n",
    "    \n",
    "location = set(location)"
   ]
  },
  {
   "cell_type": "code",
   "execution_count": null,
   "metadata": {},
   "outputs": [],
   "source": [
    "#https://jupyter-gmaps.readthedocs.io/en/latest/tutorial.html\n",
    "import gmaps\n",
    "import gmaps.datasets\n",
    "import pickle\n",
    "\n",
    "with open('/Users/c266770/Desktop/pickles/api.pkl', 'rb') as f:\n",
    "    api = pickle.load(f)\n",
    "\n",
    "gmaps.configure(api['googleMaps'])"
   ]
  },
  {
   "cell_type": "code",
   "execution_count": null,
   "metadata": {},
   "outputs": [],
   "source": [
    "fig = gmaps.figure(center=(0,0),zoom_level=1.75, map_type='HYBRID')\n",
    "heatmap = gmaps.heatmap_layer(locations=location)\n",
    "fig.add_layer(heatmap)"
   ]
  },
  {
   "cell_type": "code",
   "execution_count": null,
   "metadata": {},
   "outputs": [],
   "source": [
    "fig"
   ]
  },
  {
   "cell_type": "markdown",
   "metadata": {},
   "source": [
    "divider"
   ]
  },
  {
   "cell_type": "code",
   "execution_count": 1,
   "metadata": {},
   "outputs": [],
   "source": [
    "import os\n",
    "import csv\n",
    "import pandas\n",
    "import matplotlib.pyplot as plt"
   ]
  },
  {
   "cell_type": "code",
   "execution_count": 2,
   "metadata": {},
   "outputs": [],
   "source": [
    "directory = '/Users/c266770/Desktop/reports/av'\n",
    "events = []\n",
    "\n",
    "for root,dirs,files in os.walk(directory):\n",
    "    for file in files:\n",
    "        if file.endswith('.csv') and file.startswith('av_daily'):\n",
    "            date = file.split('_')[2].split('.')[0].split('-')[0:3]\n",
    "            date = \"-\".join(date)\n",
    "            with open(directory+'/'+file) as csvfile:\n",
    "                devicescsv = csv.reader(csvfile)\n",
    "                for row in devicescsv:\n",
    "                    if len(row[0]) ==32:\n",
    "                        row.append(date)\n",
    "                        events.append(row)"
   ]
  },
  {
   "cell_type": "code",
   "execution_count": 3,
   "metadata": {},
   "outputs": [
    {
     "data": {
      "text/html": [
       "<div>\n",
       "<style scoped>\n",
       "    .dataframe tbody tr th:only-of-type {\n",
       "        vertical-align: middle;\n",
       "    }\n",
       "\n",
       "    .dataframe tbody tr th {\n",
       "        vertical-align: top;\n",
       "    }\n",
       "\n",
       "    .dataframe thead th {\n",
       "        text-align: right;\n",
       "    }\n",
       "</style>\n",
       "<table border=\"1\" class=\"dataframe\">\n",
       "  <thead>\n",
       "    <tr style=\"text-align: right;\">\n",
       "      <th></th>\n",
       "      <th>md5</th>\n",
       "      <th>src_host</th>\n",
       "      <th>av_sig</th>\n",
       "      <th>date</th>\n",
       "    </tr>\n",
       "  </thead>\n",
       "  <tbody>\n",
       "    <tr>\n",
       "      <th>0</th>\n",
       "      <td>ae5cf1e0939132faa64c9b3c8df78de3</td>\n",
       "      <td>UBBBC5CG54738XR</td>\n",
       "      <td>GenericRXFQ-QJ!AE5CF1E09391</td>\n",
       "      <td>2018-06-14</td>\n",
       "    </tr>\n",
       "    <tr>\n",
       "      <th>1</th>\n",
       "      <td>ae5cf1e0939132faa64c9b3c8df78de3</td>\n",
       "      <td>UBBBC5CG54738XR</td>\n",
       "      <td>GenericRXFQ-QJ!AE5CF1E09391</td>\n",
       "      <td>2018-06-14</td>\n",
       "    </tr>\n",
       "    <tr>\n",
       "      <th>2</th>\n",
       "      <td>d34f58d7ae3e089409767d348cec3490</td>\n",
       "      <td>UBBBC5CG5172P1V</td>\n",
       "      <td>Artemis!D34F58D7AE3E</td>\n",
       "      <td>2018-06-14</td>\n",
       "    </tr>\n",
       "    <tr>\n",
       "      <th>3</th>\n",
       "      <td>68fd8d8a57adefc6a6276309a88d9daf</td>\n",
       "      <td>TRBBCCNU410DDTW</td>\n",
       "      <td>Artemis!68FD8D8A57AD</td>\n",
       "      <td>2018-06-14</td>\n",
       "    </tr>\n",
       "    <tr>\n",
       "      <th>4</th>\n",
       "      <td>d78bde0fe37c1c696c31b256516ecccf</td>\n",
       "      <td>IT2SR8CN7360HZS</td>\n",
       "      <td>Artemis!D78BDE0FE37C</td>\n",
       "      <td>2018-06-14</td>\n",
       "    </tr>\n",
       "  </tbody>\n",
       "</table>\n",
       "</div>"
      ],
      "text/plain": [
       "                                md5         src_host  \\\n",
       "0  ae5cf1e0939132faa64c9b3c8df78de3  UBBBC5CG54738XR   \n",
       "1  ae5cf1e0939132faa64c9b3c8df78de3  UBBBC5CG54738XR   \n",
       "2  d34f58d7ae3e089409767d348cec3490  UBBBC5CG5172P1V   \n",
       "3  68fd8d8a57adefc6a6276309a88d9daf  TRBBCCNU410DDTW   \n",
       "4  d78bde0fe37c1c696c31b256516ecccf  IT2SR8CN7360HZS   \n",
       "\n",
       "                        av_sig       date  \n",
       "0  GenericRXFQ-QJ!AE5CF1E09391 2018-06-14  \n",
       "1  GenericRXFQ-QJ!AE5CF1E09391 2018-06-14  \n",
       "2         Artemis!D34F58D7AE3E 2018-06-14  \n",
       "3         Artemis!68FD8D8A57AD 2018-06-14  \n",
       "4         Artemis!D78BDE0FE37C 2018-06-14  "
      ]
     },
     "execution_count": 3,
     "metadata": {},
     "output_type": "execute_result"
    }
   ],
   "source": [
    "labels = ['col1','col2','col3','col4','col5','col6','col7','col8','col9','col10']\n",
    "df_avReports = pandas.DataFrame.from_records(events, columns=labels)\n",
    "\n",
    "df_mcafeeAv = df_avReports[df_avReports.col2 == 'mcafee_av'][['col1','col4','col5','col8']]\n",
    "df_mcafeeAv = df_mcafeeAv.rename(index=str, columns={'col1':'md5','col4':'src_host','col5':'av_sig','col8':'date'})\n",
    "df_mcafeeAv['date'] = pandas.to_datetime(df_mcafeeAv['date'])\n",
    "#df_mcafeeAv.head(5)\n",
    "\n",
    "df_mcafeeHip = df_avReports[df_avReports.col2 == 'mcafee_hip'][['col1','col5','col9','col10']]\n",
    "df_mcafeeHip = df_mcafeeHip.rename(index=str, columns={'col1':'md5','col5':'src_host','col9':'av_sig','col10':'date'})\n",
    "df_mcafeeHip['date'] = pandas.to_datetime(df_mcafeeHip['date'])\n",
    "#df_mcafeeHip.head(5)\n",
    "\n",
    "df_cylance = df_avReports[df_avReports.col2 == 'cylance_av'][['col1','col5','col3','col7']]\n",
    "df_cylance.col1 = df_cylance.col1.map(lambda x: x.lower())\n",
    "df_cylance = df_cylance.rename(index=str, columns={'col1':'md5','col5':'src_host','col3':'av_sig','col7':'date'})\n",
    "df_cylance['date'] = pandas.to_datetime(df_cylance['date'])\n",
    "#df_cylance.head(5)\n",
    "\n",
    "dfs = [df_mcafeeAv, df_mcafeeHip, df_cylance]\n",
    "df_avcombo = pandas.concat(dfs)\n",
    "df_avcombo.head(5)"
   ]
  },
  {
   "cell_type": "code",
   "execution_count": 4,
   "metadata": {},
   "outputs": [],
   "source": [
    "y = df_avcombo.groupby('date').count()['md5'].map(lambda x: float(x))\n",
    "df_y = pandas.DataFrame(y)\n",
    "df_y = df_y.asfreq('D')\n",
    "start = len(df_y) -10\n",
    "end = len(df_y) + 15"
   ]
  },
  {
   "cell_type": "code",
   "execution_count": 5,
   "metadata": {},
   "outputs": [
    {
     "name": "stderr",
     "output_type": "stream",
     "text": [
      "/Users/c266770/anaconda3/lib/python3.6/site-packages/statsmodels/compat/pandas.py:56: FutureWarning: The pandas.core.datetools module is deprecated and will be removed in a future version. Please use the pandas.tseries module instead.\n",
      "  from pandas.core import datetools\n"
     ]
    }
   ],
   "source": [
    "import statsmodels.api as sm\n",
    "\n",
    "mod = sm.tsa.statespace.SARIMAX(df_y,\n",
    "                                order=(0, 1, 1),\n",
    "                                seasonal_order=(1, 1, 1, 7),\n",
    "                                enforce_stationarity=False,\n",
    "                                enforce_invertibility=False)\n",
    "results = mod.fit()"
   ]
  },
  {
   "cell_type": "code",
   "execution_count": 6,
   "metadata": {},
   "outputs": [
    {
     "data": {
      "text/plain": [
       "<matplotlib.legend.Legend at 0x1c11cae128>"
      ]
     },
     "execution_count": 6,
     "metadata": {},
     "output_type": "execute_result"
    },
    {
     "data": {
      "image/png": "[encoded data removed]",
      "text/plain": [
       "<matplotlib.figure.Figure at 0x102439828>"
      ]
     },
     "metadata": {
      "needs_background": "light"
     },
     "output_type": "display_data"
    }
   ],
   "source": [
    "pred_results = results.predict(start=start, end=end, dynamic=True)\n",
    "\n",
    "ax = df_y.plot(label='observed', figsize=(20, 15))\n",
    "pred_results.plot(ax=ax, label='forecast')\n",
    "plt.legend()"
   ]
  },
  {
   "cell_type": "code",
   "execution_count": 7,
   "metadata": {},
   "outputs": [
    {
     "data": {
      "text/html": [
       "\n",
       "    <div class=\"bk-root\">\n",
       "        <a href=\"https://bokeh.pydata.org\" target=\"_blank\" class=\"bk-logo bk-logo-small bk-logo-notebook\"></a>\n",
       "        <span id=\"e267e029-1cf6-4f92-96be-a27ee04f3903\">Loading BokehJS ...</span>\n",
       "    </div>"
      ]
     },
     "metadata": {},
     "output_type": "display_data"
    },
    {
     "data": {
      "application/javascript": [
       "\n",
       "(function(root) {\n",
       "  function now() {\n",
       "    return new Date();\n",
       "  }\n",
       "\n",
       "  var force = true;\n",
       "\n",
       "  if (typeof (root._bokeh_onload_callbacks) === \"undefined\" || force === true) {\n",
       "    root._bokeh_onload_callbacks = [];\n",
       "    root._bokeh_is_loading = undefined;\n",
       "  }\n",
       "\n",
       "  var JS_MIME_TYPE = 'application/javascript';\n",
       "  var HTML_MIME_TYPE = 'text/html';\n",
       "  var EXEC_MIME_TYPE = 'application/vnd.bokehjs_exec.v0+json';\n",
       "  var CLASS_NAME = 'output_bokeh rendered_html';\n",
       "\n",
       "  /**\n",
       "   * Render data to the DOM node\n",
       "   */\n",
       "  function render(props, node) {\n",
       "    var script = document.createElement(\"script\");\n",
       "    node.appendChild(script);\n",
       "  }\n",
       "\n",
       "  /**\n",
       "   * Handle when an output is cleared or removed\n",
       "   */\n",
       "  function handleClearOutput(event, handle) {\n",
       "    var cell = handle.cell;\n",
       "\n",
       "    var id = cell.output_area._bokeh_element_id;\n",
       "    var server_id = cell.output_area._bokeh_server_id;\n",
       "    // Clean up Bokeh references\n",
       "    if (id !== undefined) {\n",
       "      Bokeh.index[id].model.document.clear();\n",
       "      delete Bokeh.index[id];\n",
       "    }\n",
       "\n",
       "    if (server_id !== undefined) {\n",
       "      // Clean up Bokeh references\n",
       "      var cmd = \"from bokeh.io.state import curstate; print(curstate().uuid_to_server['\" + server_id + \"'].get_sessions()[0].document.roots[0]._id)\";\n",
       "      cell.notebook.kernel.execute(cmd, {\n",
       "        iopub: {\n",
       "          output: function(msg) {\n",
       "            var element_id = msg.content.text.trim();\n",
       "            Bokeh.index[element_id].model.document.clear();\n",
       "            delete Bokeh.index[element_id];\n",
       "          }\n",
       "        }\n",
       "      });\n",
       "      // Destroy server and session\n",
       "      var cmd = \"import bokeh.io.notebook as ion; ion.destroy_server('\" + server_id + \"')\";\n",
       "      cell.notebook.kernel.execute(cmd);\n",
       "    }\n",
       "  }\n",
       "\n",
       "  /**\n",
       "   * Handle when a new output is added\n",
       "   */\n",
       "  function handleAddOutput(event, handle) {\n",
       "    var output_area = handle.output_area;\n",
       "    var output = handle.output;\n",
       "\n",
       "    // limit handleAddOutput to display_data with EXEC_MIME_TYPE content only\n",
       "    if ((output.output_type != \"display_data\") || (!output.data.hasOwnProperty(EXEC_MIME_TYPE))) {\n",
       "      return\n",
       "    }\n",
       "\n",
       "    var toinsert = output_area.element.find(\".\" + CLASS_NAME.split(' ')[0]);\n",
       "\n",
       "    if (output.metadata[EXEC_MIME_TYPE][\"id\"] !== undefined) {\n",
       "      toinsert[0].firstChild.textContent = output.data[JS_MIME_TYPE];\n",
       "      // store reference to embed id on output_area\n",
       "      output_area._bokeh_element_id = output.metadata[EXEC_MIME_TYPE][\"id\"];\n",
       "    }\n",
       "    if (output.metadata[EXEC_MIME_TYPE][\"server_id\"] !== undefined) {\n",
       "      var bk_div = document.createElement(\"div\");\n",
       "      bk_div.innerHTML = output.data[HTML_MIME_TYPE];\n",
       "      var script_attrs = bk_div.children[0].attributes;\n",
       "      for (var i = 0; i < script_attrs.length; i++) {\n",
       "        toinsert[0].firstChild.setAttribute(script_attrs[i].name, script_attrs[i].value);\n",
       "      }\n",
       "      // store reference to server id on output_area\n",
       "      output_area._bokeh_server_id = output.metadata[EXEC_MIME_TYPE][\"server_id\"];\n",
       "    }\n",
       "  }\n",
       "\n",
       "  function register_renderer(events, OutputArea) {\n",
       "\n",
       "    function append_mime(data, metadata, element) {\n",
       "      // create a DOM node to render to\n",
       "      var toinsert = this.create_output_subarea(\n",
       "        metadata,\n",
       "        CLASS_NAME,\n",
       "        EXEC_MIME_TYPE\n",
       "      );\n",
       "      this.keyboard_manager.register_events(toinsert);\n",
       "      // Render to node\n",
       "      var props = {data: data, metadata: metadata[EXEC_MIME_TYPE]};\n",
       "      render(props, toinsert[0]);\n",
       "      element.append(toinsert);\n",
       "      return toinsert\n",
       "    }\n",
       "\n",
       "    /* Handle when an output is cleared or removed */\n",
       "    events.on('clear_output.CodeCell', handleClearOutput);\n",
       "    events.on('delete.Cell', handleClearOutput);\n",
       "\n",
       "    /* Handle when a new output is added */\n",
       "    events.on('output_added.OutputArea', handleAddOutput);\n",
       "\n",
       "    /**\n",
       "     * Register the mime type and append_mime function with output_area\n",
       "     */\n",
       "    OutputArea.prototype.register_mime_type(EXEC_MIME_TYPE, append_mime, {\n",
       "      /* Is output safe? */\n",
       "      safe: true,\n",
       "      /* Index of renderer in `output_area.display_order` */\n",
       "      index: 0\n",
       "    });\n",
       "  }\n",
       "\n",
       "  // register the mime type if in Jupyter Notebook environment and previously unregistered\n",
       "  if (root.Jupyter !== undefined) {\n",
       "    var events = require('base/js/events');\n",
       "    var OutputArea = require('notebook/js/outputarea').OutputArea;\n",
       "\n",
       "    if (OutputArea.prototype.mime_types().indexOf(EXEC_MIME_TYPE) == -1) {\n",
       "      register_renderer(events, OutputArea);\n",
       "    }\n",
       "  }\n",
       "\n",
       "  \n",
       "  if (typeof (root._bokeh_timeout) === \"undefined\" || force === true) {\n",
       "    root._bokeh_timeout = Date.now() + 5000;\n",
       "    root._bokeh_failed_load = false;\n",
       "  }\n",
       "\n",
       "  var NB_LOAD_WARNING = {'data': {'text/html':\n",
       "     \"<div style='background-color: #fdd'>\\n\"+\n",
       "     \"<p>\\n\"+\n",
       "     \"BokehJS does not appear to have successfully loaded. If loading BokehJS from CDN, this \\n\"+\n",
       "     \"may be due to a slow or bad network connection. Possible fixes:\\n\"+\n",
       "     \"</p>\\n\"+\n",
       "     \"<ul>\\n\"+\n",
       "     \"<li>re-rerun `output_notebook()` to attempt to load from CDN again, or</li>\\n\"+\n",
       "     \"<li>use INLINE resources instead, as so:</li>\\n\"+\n",
       "     \"</ul>\\n\"+\n",
       "     \"<code>\\n\"+\n",
       "     \"from bokeh.resources import INLINE\\n\"+\n",
       "     \"output_notebook(resources=INLINE)\\n\"+\n",
       "     \"</code>\\n\"+\n",
       "     \"</div>\"}};\n",
       "\n",
       "  function display_loaded() {\n",
       "    var el = document.getElementById(\"e267e029-1cf6-4f92-96be-a27ee04f3903\");\n",
       "    if (el != null) {\n",
       "      el.textContent = \"BokehJS is loading...\";\n",
       "    }\n",
       "    if (root.Bokeh !== undefined) {\n",
       "      if (el != null) {\n",
       "        el.textContent = \"BokehJS \" + root.Bokeh.version + \" successfully loaded.\";\n",
       "      }\n",
       "    } else if (Date.now() < root._bokeh_timeout) {\n",
       "      setTimeout(display_loaded, 100)\n",
       "    }\n",
       "  }\n",
       "\n",
       "\n",
       "  function run_callbacks() {\n",
       "    try {\n",
       "      root._bokeh_onload_callbacks.forEach(function(callback) { callback() });\n",
       "    }\n",
       "    finally {\n",
       "      delete root._bokeh_onload_callbacks\n",
       "    }\n",
       "    console.info(\"Bokeh: all callbacks have finished\");\n",
       "  }\n",
       "\n",
       "  function load_libs(js_urls, callback) {\n",
       "    root._bokeh_onload_callbacks.push(callback);\n",
       "    if (root._bokeh_is_loading > 0) {\n",
       "      console.log(\"Bokeh: BokehJS is being loaded, scheduling callback at\", now());\n",
       "      return null;\n",
       "    }\n",
       "    if (js_urls == null || js_urls.length === 0) {\n",
       "      run_callbacks();\n",
       "      return null;\n",
       "    }\n",
       "    console.log(\"Bokeh: BokehJS not loaded, scheduling load and callback at\", now());\n",
       "    root._bokeh_is_loading = js_urls.length;\n",
       "    for (var i = 0; i < js_urls.length; i++) {\n",
       "      var url = js_urls[i];\n",
       "      var s = document.createElement('script');\n",
       "      s.src = url;\n",
       "      s.async = false;\n",
       "      s.onreadystatechange = s.onload = function() {\n",
       "        root._bokeh_is_loading--;\n",
       "        if (root._bokeh_is_loading === 0) {\n",
       "          console.log(\"Bokeh: all BokehJS libraries loaded\");\n",
       "          run_callbacks()\n",
       "        }\n",
       "      };\n",
       "      s.onerror = function() {\n",
       "        console.warn(\"failed to load library \" + url);\n",
       "      };\n",
       "      console.log(\"Bokeh: injecting script tag for BokehJS library: \", url);\n",
       "      document.getElementsByTagName(\"head\")[0].appendChild(s);\n",
       "    }\n",
       "  };var element = document.getElementById(\"e267e029-1cf6-4f92-96be-a27ee04f3903\");\n",
       "  if (element == null) {\n",
       "    console.log(\"Bokeh: ERROR: autoload.js configured with elementid 'e267e029-1cf6-4f92-96be-a27ee04f3903' but no matching script tag was found. \")\n",
       "    return false;\n",
       "  }\n",
       "\n",
       "  var js_urls = [\"https://cdn.pydata.org/bokeh/release/bokeh-0.12.13.min.js\", \"https://cdn.pydata.org/bokeh/release/bokeh-widgets-0.12.13.min.js\", \"https://cdn.pydata.org/bokeh/release/bokeh-tables-0.12.13.min.js\", \"https://cdn.pydata.org/bokeh/release/bokeh-gl-0.12.13.min.js\"];\n",
       "\n",
       "  var inline_js = [\n",
       "    function(Bokeh) {\n",
       "      Bokeh.set_log_level(\"info\");\n",
       "    },\n",
       "    \n",
       "    function(Bokeh) {\n",
       "      \n",
       "    },\n",
       "    function(Bokeh) {\n",
       "      console.log(\"Bokeh: injecting CSS: https://cdn.pydata.org/bokeh/release/bokeh-0.12.13.min.css\");\n",
       "      Bokeh.embed.inject_css(\"https://cdn.pydata.org/bokeh/release/bokeh-0.12.13.min.css\");\n",
       "      console.log(\"Bokeh: injecting CSS: https://cdn.pydata.org/bokeh/release/bokeh-widgets-0.12.13.min.css\");\n",
       "      Bokeh.embed.inject_css(\"https://cdn.pydata.org/bokeh/release/bokeh-widgets-0.12.13.min.css\");\n",
       "      console.log(\"Bokeh: injecting CSS: https://cdn.pydata.org/bokeh/release/bokeh-tables-0.12.13.min.css\");\n",
       "      Bokeh.embed.inject_css(\"https://cdn.pydata.org/bokeh/release/bokeh-tables-0.12.13.min.css\");\n",
       "    }\n",
       "  ];\n",
       "\n",
       "  function run_inline_js() {\n",
       "    \n",
       "    if ((root.Bokeh !== undefined) || (force === true)) {\n",
       "      for (var i = 0; i < inline_js.length; i++) {\n",
       "        inline_js[i].call(root, root.Bokeh);\n",
       "      }if (force === true) {\n",
       "        display_loaded();\n",
       "      }} else if (Date.now() < root._bokeh_timeout) {\n",
       "      setTimeout(run_inline_js, 100);\n",
       "    } else if (!root._bokeh_failed_load) {\n",
       "      console.log(\"Bokeh: BokehJS failed to load within specified timeout.\");\n",
       "      root._bokeh_failed_load = true;\n",
       "    } else if (force !== true) {\n",
       "      var cell = $(document.getElementById(\"e267e029-1cf6-4f92-96be-a27ee04f3903\")).parents('.cell').data().cell;\n",
       "      cell.output_area.append_execute_result(NB_LOAD_WARNING)\n",
       "    }\n",
       "\n",
       "  }\n",
       "\n",
       "  if (root._bokeh_is_loading === 0) {\n",
       "    console.log(\"Bokeh: BokehJS loaded, going straight to plotting\");\n",
       "    run_inline_js();\n",
       "  } else {\n",
       "    load_libs(js_urls, function() {\n",
       "      console.log(\"Bokeh: BokehJS plotting callback run at\", now());\n",
       "      run_inline_js();\n",
       "    });\n",
       "  }\n",
       "}(window));"
      ],
      "application/vnd.bokehjs_load.v0+json": "\n(function(root) {\n  function now() {\n    return new Date();\n  }\n\n  var force = true;\n\n  if (typeof (root._bokeh_onload_callbacks) === \"undefined\" || force === true) {\n    root._bokeh_onload_callbacks = [];\n    root._bokeh_is_loading = undefined;\n  }\n\n  \n\n  \n  if (typeof (root._bokeh_timeout) === \"undefined\" || force === true) {\n    root._bokeh_timeout = Date.now() + 5000;\n    root._bokeh_failed_load = false;\n  }\n\n  var NB_LOAD_WARNING = {'data': {'text/html':\n     \"<div style='background-color: #fdd'>\\n\"+\n     \"<p>\\n\"+\n     \"BokehJS does not appear to have successfully loaded. If loading BokehJS from CDN, this \\n\"+\n     \"may be due to a slow or bad network connection. Possible fixes:\\n\"+\n     \"</p>\\n\"+\n     \"<ul>\\n\"+\n     \"<li>re-rerun `output_notebook()` to attempt to load from CDN again, or</li>\\n\"+\n     \"<li>use INLINE resources instead, as so:</li>\\n\"+\n     \"</ul>\\n\"+\n     \"<code>\\n\"+\n     \"from bokeh.resources import INLINE\\n\"+\n     \"output_notebook(resources=INLINE)\\n\"+\n     \"</code>\\n\"+\n     \"</div>\"}};\n\n  function display_loaded() {\n    var el = document.getElementById(\"e267e029-1cf6-4f92-96be-a27ee04f3903\");\n    if (el != null) {\n      el.textContent = \"BokehJS is loading...\";\n    }\n    if (root.Bokeh !== undefined) {\n      if (el != null) {\n        el.textContent = \"BokehJS \" + root.Bokeh.version + \" successfully loaded.\";\n      }\n    } else if (Date.now() < root._bokeh_timeout) {\n      setTimeout(display_loaded, 100)\n    }\n  }\n\n\n  function run_callbacks() {\n    try {\n      root._bokeh_onload_callbacks.forEach(function(callback) { callback() });\n    }\n    finally {\n      delete root._bokeh_onload_callbacks\n    }\n    console.info(\"Bokeh: all callbacks have finished\");\n  }\n\n  function load_libs(js_urls, callback) {\n    root._bokeh_onload_callbacks.push(callback);\n    if (root._bokeh_is_loading > 0) {\n      console.log(\"Bokeh: BokehJS is being loaded, scheduling callback at\", now());\n      return null;\n    }\n    if (js_urls == null || js_urls.length === 0) {\n      run_callbacks();\n      return null;\n    }\n    console.log(\"Bokeh: BokehJS not loaded, scheduling load and callback at\", now());\n    root._bokeh_is_loading = js_urls.length;\n    for (var i = 0; i < js_urls.length; i++) {\n      var url = js_urls[i];\n      var s = document.createElement('script');\n      s.src = url;\n      s.async = false;\n      s.onreadystatechange = s.onload = function() {\n        root._bokeh_is_loading--;\n        if (root._bokeh_is_loading === 0) {\n          console.log(\"Bokeh: all BokehJS libraries loaded\");\n          run_callbacks()\n        }\n      };\n      s.onerror = function() {\n        console.warn(\"failed to load library \" + url);\n      };\n      console.log(\"Bokeh: injecting script tag for BokehJS library: \", url);\n      document.getElementsByTagName(\"head\")[0].appendChild(s);\n    }\n  };var element = document.getElementById(\"e267e029-1cf6-4f92-96be-a27ee04f3903\");\n  if (element == null) {\n    console.log(\"Bokeh: ERROR: autoload.js configured with elementid 'e267e029-1cf6-4f92-96be-a27ee04f3903' but no matching script tag was found. \")\n    return false;\n  }\n\n  var js_urls = [\"https://cdn.pydata.org/bokeh/release/bokeh-0.12.13.min.js\", \"https://cdn.pydata.org/bokeh/release/bokeh-widgets-0.12.13.min.js\", \"https://cdn.pydata.org/bokeh/release/bokeh-tables-0.12.13.min.js\", \"https://cdn.pydata.org/bokeh/release/bokeh-gl-0.12.13.min.js\"];\n\n  var inline_js = [\n    function(Bokeh) {\n      Bokeh.set_log_level(\"info\");\n    },\n    \n    function(Bokeh) {\n      \n    },\n    function(Bokeh) {\n      console.log(\"Bokeh: injecting CSS: https://cdn.pydata.org/bokeh/release/bokeh-0.12.13.min.css\");\n      Bokeh.embed.inject_css(\"https://cdn.pydata.org/bokeh/release/bokeh-0.12.13.min.css\");\n      console.log(\"Bokeh: injecting CSS: https://cdn.pydata.org/bokeh/release/bokeh-widgets-0.12.13.min.css\");\n      Bokeh.embed.inject_css(\"https://cdn.pydata.org/bokeh/release/bokeh-widgets-0.12.13.min.css\");\n      console.log(\"Bokeh: injecting CSS: https://cdn.pydata.org/bokeh/release/bokeh-tables-0.12.13.min.css\");\n      Bokeh.embed.inject_css(\"https://cdn.pydata.org/bokeh/release/bokeh-tables-0.12.13.min.css\");\n    }\n  ];\n\n  function run_inline_js() {\n    \n    if ((root.Bokeh !== undefined) || (force === true)) {\n      for (var i = 0; i < inline_js.length; i++) {\n        inline_js[i].call(root, root.Bokeh);\n      }if (force === true) {\n        display_loaded();\n      }} else if (Date.now() < root._bokeh_timeout) {\n      setTimeout(run_inline_js, 100);\n    } else if (!root._bokeh_failed_load) {\n      console.log(\"Bokeh: BokehJS failed to load within specified timeout.\");\n      root._bokeh_failed_load = true;\n    } else if (force !== true) {\n      var cell = $(document.getElementById(\"e267e029-1cf6-4f92-96be-a27ee04f3903\")).parents('.cell').data().cell;\n      cell.output_area.append_execute_result(NB_LOAD_WARNING)\n    }\n\n  }\n\n  if (root._bokeh_is_loading === 0) {\n    console.log(\"Bokeh: BokehJS loaded, going straight to plotting\");\n    run_inline_js();\n  } else {\n    load_libs(js_urls, function() {\n      console.log(\"Bokeh: BokehJS plotting callback run at\", now());\n      run_inline_js();\n    });\n  }\n}(window));"
     },
     "metadata": {},
     "output_type": "display_data"
    }
   ],
   "source": [
    "from bokeh.plotting import figure, show\n",
    "from bokeh.io import output_notebook\n",
    "from bokeh.models import ColumnDataSource\n",
    "import math\n",
    "\n",
    "output_notebook()"
   ]
  },
  {
   "cell_type": "code",
   "execution_count": 9,
   "metadata": {},
   "outputs": [
    {
     "data": {
      "text/html": [
       "\n",
       "<div class=\"bk-root\">\n",
       "    <div class=\"bk-plotdiv\" id=\"43d13ca2-4c7a-4cb2-a822-71568993c82c\"></div>\n",
       "</div>"
      ]
     },
     "metadata": {},
     "output_type": "display_data"
    },
    {
     "data": {
      "application/javascript": [
       "(function(root) {\n",
       "  function embed_document(root) {\n",
       "    \n",
       "  var docs_json = {\"d1b54cbd-f8a3-4fe9-89e4-3de29be2af44\":{\"roots\":{\"references\":[{\"attributes\":{},\"id\":\"82f08a49-2373-4159-82b7-4bad767bf38d\",\"type\":\"PanTool\"},{\"attributes\":{\"line_alpha\":0.1,\"line_color\":\"#1f77b4\",\"x\":{\"field\":\"date\"},\"y\":{\"field\":\"md5\"}},\"id\":\"0362e79f-fd45-4f5b-963e-dcbe407dde64\",\"type\":\"Line\"},{\"attributes\":{\"bottom_units\":\"screen\",\"fill_alpha\":{\"value\":0.5},\"fill_color\":{\"value\":\"lightgrey\"},\"left_units\":\"screen\",\"level\":\"overlay\",\"line_alpha\":{\"value\":1.0},\"line_color\":{\"value\":\"black\"},\"line_dash\":[4,4],\"line_width\":{\"value\":2},\"plot\":null,\"render_mode\":\"css\",\"right_units\":\"screen\",\"top_units\":\"screen\"},\"id\":\"73d9f857-87b9-4586-bd43-002b673d35d4\",\"type\":\"BoxAnnotation\"},{\"attributes\":{\"data_source\":{\"id\":\"e40efb11-efc9-4ace-a767-e9c4657c2f2e\",\"type\":\"ColumnDataSource\"},\"glyph\":{\"id\":\"0c4f58db-840b-4483-903d-9c95f9241c5e\",\"type\":\"Line\"},\"hover_glyph\":null,\"muted_glyph\":null,\"nonselection_glyph\":{\"id\":\"0362e79f-fd45-4f5b-963e-dcbe407dde64\",\"type\":\"Line\"},\"selection_glyph\":null,\"view\":{\"id\":\"43d18546-bdd1-4b7f-91b1-6bf9ffa8fa7d\",\"type\":\"CDSView\"}},\"id\":\"0db784d8-ba16-4b60-ba34-5d5a41cc3756\",\"type\":\"GlyphRenderer\"},{\"attributes\":{},\"id\":\"d9e5ebe3-6ccb-4b48-9352-12a45b7c3a19\",\"type\":\"WheelZoomTool\"},{\"attributes\":{\"overlay\":{\"id\":\"73d9f857-87b9-4586-bd43-002b673d35d4\",\"type\":\"BoxAnnotation\"}},\"id\":\"e6f4c0f5-d212-4560-a3d2-562f35bc21a6\",\"type\":\"BoxZoomTool\"},{\"attributes\":{},\"id\":\"231822f3-546e-4fe6-b24e-d94a2bcc7460\",\"type\":\"SaveTool\"},{\"attributes\":{\"source\":{\"id\":\"e40efb11-efc9-4ace-a767-e9c4657c2f2e\",\"type\":\"ColumnDataSource\"}},\"id\":\"43d18546-bdd1-4b7f-91b1-6bf9ffa8fa7d\",\"type\":\"CDSView\"},{\"attributes\":{},\"id\":\"d7417654-0bf1-4170-837d-479da35de5f1\",\"type\":\"ResetTool\"},{\"attributes\":{},\"id\":\"144db06b-6246-4778-b5e8-5100df4bc4c7\",\"type\":\"HelpTool\"},{\"attributes\":{\"data_source\":{\"id\":\"dcdff8d1-e882-49f5-a39a-2a97beac8b8f\",\"type\":\"ColumnDataSource\"},\"glyph\":{\"id\":\"900fcd2c-c374-48a2-bdd1-c828021fccca\",\"type\":\"Line\"},\"hover_glyph\":null,\"muted_glyph\":null,\"nonselection_glyph\":{\"id\":\"da33b263-aab6-41bb-82f4-fb9ea75602a1\",\"type\":\"Line\"},\"selection_glyph\":null,\"view\":{\"id\":\"675e5a0e-02a1-481f-b459-1658f6379c12\",\"type\":\"CDSView\"}},\"id\":\"c302831a-aeb6-4138-9076-ce9e2eb5fde9\",\"type\":\"GlyphRenderer\"},{\"attributes\":{\"line_color\":\"#1f77b4\",\"x\":{\"field\":\"date\"},\"y\":{\"field\":\"md5\"}},\"id\":\"900fcd2c-c374-48a2-bdd1-c828021fccca\",\"type\":\"Line\"},{\"attributes\":{\"plot\":null,\"text\":\"\"},\"id\":\"192366a4-9695-43ec-9775-28e944c85313\",\"type\":\"Title\"},{\"attributes\":{\"callback\":null,\"column_names\":[\"md5\",\"date\"],\"data\":{\"date\":{\"__ndarray__\":\"AABAfFNwdkIAAADipXB2QgAAwEf4cHZCAACArUpxdkIAAEATnXF2QgAAAHnvcXZCAADA3kFydkIAAIBElHJ2QgAAQKrmcnZCAAAAEDlzdkIAAMB1i3N2QgAAgNvdc3ZCAABAQTB0dkIAAACngnR2QgAAwAzVdHZCAACAcid1dkIAAEDYeXV2QgAAAD7MdXZCAADAox52dkIAAIAJcXZ2QgAAQG/DdnZCAAAA1RV3dkIAAMA6aHd2QgAAgKC6d3ZCAABABg14dkIAAABsX3h2Qg==\",\"dtype\":\"float64\",\"shape\":[26]},\"md5\":{\"__ndarray__\":\"dV3bqGt/RUABD2/3qhaBQBnHN4j1y39A7YcxVNbwh0B/4mIwRC+HQP96IC0WrHpA8KQ70gNtSsAggS5xOtICQP8ssNg4UYBAprPwMBwqf0A1wntfDEGKQBPoOcUjBIhAjuMwxKwVekAUjbVI+X5ZwFSdEWtCJDbAl9K2THR1f0CvbSoPFVB+QBR/ms6qw4pAccsWYbf/h0BmlXv2tz95QBAEesMDMGDABgWZj41xRMBD+sGc5Gl+QLJ2bBUOYn1A9mMDLvahikBw6Uq3762HQA==\",\"dtype\":\"float64\",\"shape\":[26]}}},\"id\":\"e40efb11-efc9-4ace-a767-e9c4657c2f2e\",\"type\":\"ColumnDataSource\"},{\"attributes\":{\"below\":[{\"id\":\"bc8f7ad6-b285-4140-8617-6db784d210d3\",\"type\":\"DatetimeAxis\"}],\"left\":[{\"id\":\"73d89a51-d492-4e8e-bf80-3a5af47a72ed\",\"type\":\"LinearAxis\"}],\"plot_width\":800,\"renderers\":[{\"id\":\"bc8f7ad6-b285-4140-8617-6db784d210d3\",\"type\":\"DatetimeAxis\"},{\"id\":\"26e91f47-8baf-4687-816d-5a0f1fe853b8\",\"type\":\"Grid\"},{\"id\":\"73d89a51-d492-4e8e-bf80-3a5af47a72ed\",\"type\":\"LinearAxis\"},{\"id\":\"d71eb94a-931a-4862-8c06-cfa15416448b\",\"type\":\"Grid\"},{\"id\":\"73d9f857-87b9-4586-bd43-002b673d35d4\",\"type\":\"BoxAnnotation\"},{\"id\":\"c302831a-aeb6-4138-9076-ce9e2eb5fde9\",\"type\":\"GlyphRenderer\"},{\"id\":\"0db784d8-ba16-4b60-ba34-5d5a41cc3756\",\"type\":\"GlyphRenderer\"}],\"title\":{\"id\":\"192366a4-9695-43ec-9775-28e944c85313\",\"type\":\"Title\"},\"toolbar\":{\"id\":\"d845de3d-7c64-4275-aa1a-ec3d4a7fdf33\",\"type\":\"Toolbar\"},\"x_range\":{\"id\":\"72437a23-bfe1-414c-9317-491b8db705a4\",\"type\":\"DataRange1d\"},\"x_scale\":{\"id\":\"352e0ae3-04cb-4480-a89d-984e0515e466\",\"type\":\"LinearScale\"},\"y_range\":{\"id\":\"055bf73c-24b0-4ac0-8366-848c54640711\",\"type\":\"DataRange1d\"},\"y_scale\":{\"id\":\"86386f4d-5ad8-4986-835d-4b84818d28bc\",\"type\":\"LinearScale\"}},\"id\":\"667b6879-e118-4ab6-adf2-2b890a7466ba\",\"subtype\":\"Figure\",\"type\":\"Plot\"},{\"attributes\":{\"mantissas\":[1,2,5],\"max_interval\":500.0,\"num_minor_ticks\":0},\"id\":\"17573414-5c87-4beb-a275-f2bfebe053af\",\"type\":\"AdaptiveTicker\"},{\"attributes\":{\"callback\":null,\"column_names\":[\"md5\",\"date\"],\"data\":{\"date\":{\"__ndarray__\":\"AABAtkA6dkIAAAAckzp2QgAAwIHlOnZCAACA5zc7dkIAAEBNijt2QgAAALPcO3ZCAADAGC88dkIAAIB+gTx2QgAAQOTTPHZCAAAASiY9dkIAAMCveD12QgAAgBXLPXZCAABAex0+dkIAAADhbz52QgAAwEbCPnZCAACArBQ/dkIAAEASZz92QgAAAHi5P3ZCAADA3QtAdkIAAIBDXkB2QgAAQKmwQHZCAAAADwNBdkIAAMB0VUF2QgAAgNqnQXZCAABAQPpBdkIAAACmTEJ2QgAAwAufQnZCAACAcfFCdkIAAEDXQ0N2QgAAAD2WQ3ZCAADAouhDdkIAAIAIO0R2QgAAQG6NRHZCAAAA1N9EdkIAAMA5MkV2QgAAgJ+ERXZCAABABddFdkIAAABrKUZ2QgAAwNB7RnZCAACANs5GdkIAAECcIEd2QgAAAAJzR3ZCAADAZ8VHdkIAAIDNF0h2QgAAQDNqSHZCAAAAmbxIdkIAAMD+Dkl2QgAAgGRhSXZCAABAyrNJdkIAAAAwBkp2QgAAwJVYSnZCAACA+6pKdkIAAEBh/Up2QgAAAMdPS3ZCAADALKJLdkIAAICS9Et2QgAAQPhGTHZCAAAAXplMdkIAAMDD60x2QgAAgCk+TXZCAABAj5BNdkIAAAD14k12QgAAwFo1TnZCAACAwIdOdkIAAEAm2k52QgAAAIwsT3ZCAADA8X5PdkIAAIBX0U92QgAAQL0jUHZCAAAAI3ZQdkIAAMCIyFB2QgAAgO4aUXZCAABAVG1RdkIAAAC6v1F2QgAAwB8SUnZCAACAhWRSdkIAAEDrtlJ2QgAAAFEJU3ZCAADAtltTdkIAAIAcrlN2QgAAQIIAVHZCAAAA6FJUdkIAAMBNpVR2QgAAgLP3VHZCAABAGUpVdkIAAAB/nFV2QgAAwOTuVXZCAACASkFWdkIAAECwk1Z2QgAAABbmVnZCAADAezhXdkIAAIDhild2QgAAQEfdV3ZCAAAArS9YdkIAAMASglh2QgAAgHjUWHZCAABA3iZZdkIAAABEeVl2QgAAwKnLWXZCAACADx5adkIAAEB1cFp2QgAAANvCWnZCAADAQBVbdkIAAICmZ1t2QgAAQAy6W3ZCAAAAcgxcdkIAAMDXXlx2QgAAgD2xXHZCAABAowNddkIAAAAJVl12QgAAwG6oXXZCAACA1PpddkIAAEA6TV52QgAAAKCfXnZCAADABfJedkIAAIBrRF92QgAAQNGWX3ZCAAAAN+lfdkIAAMCcO2B2QgAAgAKOYHZCAABAaOBgdkIAAADOMmF2QgAAwDOFYXZCAACAmddhdkIAAED/KWJ2QgAAAGV8YnZCAADAys5idkIAAIAwIWN2QgAAQJZzY3ZCAAAA/MVjdkIAAMBhGGR2QgAAgMdqZHZCAABALb1kdkIAAACTD2V2QgAAwPhhZXZCAACAXrRldkIAAEDEBmZ2QgAAACpZZnZCAADAj6tmdkIAAID1/WZ2QgAAQFtQZ3ZCAAAAwaJndkIAAMAm9Wd2QgAAgIxHaHZCAABA8plodkIAAABY7Gh2QgAAwL0+aXZCAACAI5FpdkIAAECJ42l2QgAAAO81anZCAADAVIhqdkIAAIC62mp2QgAAQCAta3ZCAAAAhn9rdkIAAMDr0Wt2QgAAgFEkbHZCAABAt3ZsdkIAAAAdyWx2QgAAwIIbbXZCAACA6G1tdkIAAEBOwG12QgAAALQSbnZCAADAGWVudkIAAIB/t252QgAAQOUJb3ZCAAAAS1xvdkIAAMCwrm92QgAAgBYBcHZCAABAfFNwdkIAAADipXB2QgAAwEf4cHZCAACArUpxdkIAAEATnXF2QgAAAHnvcXZCAADA3kFydkIAAIBElHJ2QgAAQKrmcnZCAAAAEDlzdkI=\",\"dtype\":\"float64\",\"shape\":[178]},\"md5\":{\"__ndarray__\":\"AAAAAADAWkAAAAAAAGBwQAAAAAAAWIFAAAAAAACwgUAAAAAAANK3QAAAAAAANJFAAAAAAABgbEAAAAAAAGBhQAAAAAAAyIdAAAAAAABggEAAAAAAAOB7QAAAAAAA0HlAAAAAAADge0AAAAAAAIBDQAAAAAAAgFpAAAAAAADwiEAAAAAAANCMQAAAAAAAAIRAAAAAAAAYgkAAAAAAAECCQAAAAAAAAEBAAAAAAAAAVUAAAAAAAIiDQAAAAAAAkH9AAAAAAABIiUAAAAAAAAiGQAAAAAAAoI5AAAAAAAAAUkAAAAAAAMBeQAAAAAAAGIZAAAAAAADoi0AAAAAAAIiRQAAAAAAAtJNAAAAAAAAMmUAAAAAAAMBbQAAAAAAAYGpAAAAAAACojEAAAAAAANiFQAAAAAAAGIBAAAAAAAAohEAAAAAAAFCBQAAAAAAAAFVAAAAAAABAYUAAAAAAAJCIQAAAAAAAkIVAAAAAAABLvEAAAAAAAFySQAAAAAAAwIJAAAAAAAAAVUAAAAAAAEBeQAAAAAAAUIlAAAAAAAAAh0AAAAAAAMirQAAAAAAAUJNAAAAAAAAYikAAAAAAAKBjQAAAAAAAsH1AAAAAAAD4ikAAAAAAAJiLQAAAAAAAXJRAAAAAAACIj0AAAAAAADCKQAAAAAAAQGdAAAAAAAAQekAAAAAAABSUQAAAAAAAaI1AAAAAAACYjkAAAAAAAHqjQAAAAAAAOIxAAAAAAADAUUAAAAAAAEBjQAAAAAAAaIhAAAAAAADohUAAAAAAAMiIQAAAAAAA4INAAAAAAAAwgEAAAAAAAEBSQAAAAAAAQGFAAAAAAADAgEAAAAAAAGiCQAAAAAAAIIVAAAAAAACAhEAAAAAAAGB8QAAAAAAAQFtAAAAAAADAVkAAAAAAAECCQAAAAAAAqIRAAAAAAADwiEAAAAAAAKCFQAAAAAAAeIxAAAAAAACgZ0AAAAAAAOBhQAAAAAAAGI5AAAAAAACghUAAAAAAAECOQAAAAAAAOItAAAAAAADYg0AAAAAAAIBTQAAAAAAAkHRAAAAAAABgdUAAAAAAABiSQAAAAAAAcHVAAAAAAAAohEAAAAAAANCCQAAAAAAA4GBAAAAAAADAZUAAAAAAACCEQAAAAAAAEIZAAAAAAAC4l0AAAAAAALiCQAAAAAAAKIJAAAAAAABgYEAAAAAAACBgQAAAAAAA2ItAAAAAAADwiUAAAAAAAMiMQAAAAAAAKIxAAAAAAABwgkAAAAAAAABaQAAAAAAAYGFAAAAAAAAgiEAAAAAAAFiMQAAAAAAAkIpAAAAAAABogkAAAAAAAHiEQAAAAAAAgFtAAAAAAACAYEAAAAAAAHiDQAAAAAAAGIBAAAAAAACwgkAAAAAAAJiBQAAAAAAAQHlAAAAAAABAYUAAAAAAANCNQAAAAAAApJhAAAAAAAAghUAAAAAAANiBQAAAAAAAEINAAAAAAACwfUAAAAAAAABUQAAAAAAA4GFAAAAAAADwf0AAAAAAAHiLQAAAAAAA0IFAAAAAAADwf0AAAAAAAHB3QAAAAAAAQFNAAAAAAAAgYEAAAAAAAIiAQAAAAAAAwIFAAAAAAABAg0AAAAAAAFCCQAAAAAAAkIJAAAAAAAAARUAAAAAAAIBaQAAAAAAAEIJAAAAAAAAYg0AAAAAAAAiDQAAAAAAAEIFAAAAAAACgekAAAAAAAIBIQAAAAAAAIGBAAAAAAABggkAAAAAAANB/QAAAAAAAkIBAAAAAAAD4g0AAAAAAAJB6QAAAAAAAgExAAAAAAACAXUAAAAAAAICGQAAAAAAA4IRAAAAAAACAiEAAAAAAACCBQAAAAAAAkHxAAAAAAABAWEAAAAAAAABbQAAAAAAAUIBAAAAAAAAwgUA=\",\"dtype\":\"float64\",\"shape\":[178]}}},\"id\":\"dcdff8d1-e882-49f5-a39a-2a97beac8b8f\",\"type\":\"ColumnDataSource\"},{\"attributes\":{\"active_drag\":\"auto\",\"active_inspect\":\"auto\",\"active_scroll\":\"auto\",\"active_tap\":\"auto\",\"tools\":[{\"id\":\"82f08a49-2373-4159-82b7-4bad767bf38d\",\"type\":\"PanTool\"},{\"id\":\"d9e5ebe3-6ccb-4b48-9352-12a45b7c3a19\",\"type\":\"WheelZoomTool\"},{\"id\":\"e6f4c0f5-d212-4560-a3d2-562f35bc21a6\",\"type\":\"BoxZoomTool\"},{\"id\":\"231822f3-546e-4fe6-b24e-d94a2bcc7460\",\"type\":\"SaveTool\"},{\"id\":\"d7417654-0bf1-4170-837d-479da35de5f1\",\"type\":\"ResetTool\"},{\"id\":\"144db06b-6246-4778-b5e8-5100df4bc4c7\",\"type\":\"HelpTool\"}]},\"id\":\"d845de3d-7c64-4275-aa1a-ec3d4a7fdf33\",\"type\":\"Toolbar\"},{\"attributes\":{\"line_alpha\":0.1,\"line_color\":\"#1f77b4\",\"x\":{\"field\":\"date\"},\"y\":{\"field\":\"md5\"}},\"id\":\"da33b263-aab6-41bb-82f4-fb9ea75602a1\",\"type\":\"Line\"},{\"attributes\":{},\"id\":\"1b96f41d-8093-454d-9c5c-a31a73b8e22f\",\"type\":\"DatetimeTickFormatter\"},{\"attributes\":{},\"id\":\"352e0ae3-04cb-4480-a89d-984e0515e466\",\"type\":\"LinearScale\"},{\"attributes\":{},\"id\":\"86386f4d-5ad8-4986-835d-4b84818d28bc\",\"type\":\"LinearScale\"},{\"attributes\":{},\"id\":\"758fe7e0-0140-48d9-8b9a-ed989f796a8f\",\"type\":\"BasicTickFormatter\"},{\"attributes\":{\"callback\":null},\"id\":\"72437a23-bfe1-414c-9317-491b8db705a4\",\"type\":\"DataRange1d\"},{\"attributes\":{\"base\":60,\"mantissas\":[1,2,5,10,15,20,30],\"max_interval\":1800000.0,\"min_interval\":1000.0,\"num_minor_ticks\":0},\"id\":\"d81d6e9b-31b4-41e7-8f92-6443f26e44d8\",\"type\":\"AdaptiveTicker\"},{\"attributes\":{\"callback\":null},\"id\":\"055bf73c-24b0-4ac0-8366-848c54640711\",\"type\":\"DataRange1d\"},{\"attributes\":{\"line_color\":\"red\",\"x\":{\"field\":\"date\"},\"y\":{\"field\":\"md5\"}},\"id\":\"0c4f58db-840b-4483-903d-9c95f9241c5e\",\"type\":\"Line\"},{\"attributes\":{\"plot\":{\"id\":\"667b6879-e118-4ab6-adf2-2b890a7466ba\",\"subtype\":\"Figure\",\"type\":\"Plot\"},\"ticker\":{\"id\":\"4546763f-d35f-4405-9f99-c3f9deb7b3fc\",\"type\":\"DatetimeTicker\"}},\"id\":\"26e91f47-8baf-4687-816d-5a0f1fe853b8\",\"type\":\"Grid\"},{\"attributes\":{\"base\":24,\"mantissas\":[1,2,4,6,8,12],\"max_interval\":43200000.0,\"min_interval\":3600000.0,\"num_minor_ticks\":0},\"id\":\"f482102d-b911-4793-8e7b-a8f164ec22e4\",\"type\":\"AdaptiveTicker\"},{\"attributes\":{\"days\":[1,2,3,4,5,6,7,8,9,10,11,12,13,14,15,16,17,18,19,20,21,22,23,24,25,26,27,28,29,30,31]},\"id\":\"131b1817-3c49-40ff-884d-0a9e95204e05\",\"type\":\"DaysTicker\"},{\"attributes\":{\"formatter\":{\"id\":\"1b96f41d-8093-454d-9c5c-a31a73b8e22f\",\"type\":\"DatetimeTickFormatter\"},\"major_label_orientation\":1.5707963267948966,\"plot\":{\"id\":\"667b6879-e118-4ab6-adf2-2b890a7466ba\",\"subtype\":\"Figure\",\"type\":\"Plot\"},\"ticker\":{\"id\":\"4546763f-d35f-4405-9f99-c3f9deb7b3fc\",\"type\":\"DatetimeTicker\"}},\"id\":\"bc8f7ad6-b285-4140-8617-6db784d210d3\",\"type\":\"DatetimeAxis\"},{\"attributes\":{\"days\":[1,4,7,10,13,16,19,22,25,28]},\"id\":\"baad1714-fad3-4d23-8111-0ee1e719c355\",\"type\":\"DaysTicker\"},{\"attributes\":{\"num_minor_ticks\":5,\"tickers\":[{\"id\":\"17573414-5c87-4beb-a275-f2bfebe053af\",\"type\":\"AdaptiveTicker\"},{\"id\":\"d81d6e9b-31b4-41e7-8f92-6443f26e44d8\",\"type\":\"AdaptiveTicker\"},{\"id\":\"f482102d-b911-4793-8e7b-a8f164ec22e4\",\"type\":\"AdaptiveTicker\"},{\"id\":\"131b1817-3c49-40ff-884d-0a9e95204e05\",\"type\":\"DaysTicker\"},{\"id\":\"baad1714-fad3-4d23-8111-0ee1e719c355\",\"type\":\"DaysTicker\"},{\"id\":\"8a1e967d-bd09-41ef-ac13-43d0fd2a6585\",\"type\":\"DaysTicker\"},{\"id\":\"ffae70e7-9504-4290-8d41-cd71729ac69e\",\"type\":\"DaysTicker\"},{\"id\":\"2055f8d2-5f9b-47a4-99c3-d141e5af771e\",\"type\":\"MonthsTicker\"},{\"id\":\"a8b9652e-2a14-40b3-ac9b-2860543c7404\",\"type\":\"MonthsTicker\"},{\"id\":\"32150f13-caca-4d11-b297-d5d0961b9659\",\"type\":\"MonthsTicker\"},{\"id\":\"9aa7f662-7c71-4237-bf4e-1bc60fa150e7\",\"type\":\"MonthsTicker\"},{\"id\":\"21e3ae25-8b6c-4d9e-81ae-ba30a966cfef\",\"type\":\"YearsTicker\"}]},\"id\":\"4546763f-d35f-4405-9f99-c3f9deb7b3fc\",\"type\":\"DatetimeTicker\"},{\"attributes\":{\"days\":[1,8,15,22]},\"id\":\"8a1e967d-bd09-41ef-ac13-43d0fd2a6585\",\"type\":\"DaysTicker\"},{\"attributes\":{\"formatter\":{\"id\":\"758fe7e0-0140-48d9-8b9a-ed989f796a8f\",\"type\":\"BasicTickFormatter\"},\"plot\":{\"id\":\"667b6879-e118-4ab6-adf2-2b890a7466ba\",\"subtype\":\"Figure\",\"type\":\"Plot\"},\"ticker\":{\"id\":\"8dca3b72-4e3d-4e57-9a0e-ccd4caea498e\",\"type\":\"BasicTicker\"}},\"id\":\"73d89a51-d492-4e8e-bf80-3a5af47a72ed\",\"type\":\"LinearAxis\"},{\"attributes\":{\"days\":[1,15]},\"id\":\"ffae70e7-9504-4290-8d41-cd71729ac69e\",\"type\":\"DaysTicker\"},{\"attributes\":{},\"id\":\"8dca3b72-4e3d-4e57-9a0e-ccd4caea498e\",\"type\":\"BasicTicker\"},{\"attributes\":{\"months\":[0,1,2,3,4,5,6,7,8,9,10,11]},\"id\":\"2055f8d2-5f9b-47a4-99c3-d141e5af771e\",\"type\":\"MonthsTicker\"},{\"attributes\":{\"dimension\":1,\"plot\":{\"id\":\"667b6879-e118-4ab6-adf2-2b890a7466ba\",\"subtype\":\"Figure\",\"type\":\"Plot\"},\"ticker\":{\"id\":\"8dca3b72-4e3d-4e57-9a0e-ccd4caea498e\",\"type\":\"BasicTicker\"}},\"id\":\"d71eb94a-931a-4862-8c06-cfa15416448b\",\"type\":\"Grid\"},{\"attributes\":{\"months\":[0,2,4,6,8,10]},\"id\":\"a8b9652e-2a14-40b3-ac9b-2860543c7404\",\"type\":\"MonthsTicker\"},{\"attributes\":{\"source\":{\"id\":\"dcdff8d1-e882-49f5-a39a-2a97beac8b8f\",\"type\":\"ColumnDataSource\"}},\"id\":\"675e5a0e-02a1-481f-b459-1658f6379c12\",\"type\":\"CDSView\"},{\"attributes\":{\"months\":[0,4,8]},\"id\":\"32150f13-caca-4d11-b297-d5d0961b9659\",\"type\":\"MonthsTicker\"},{\"attributes\":{\"months\":[0,6]},\"id\":\"9aa7f662-7c71-4237-bf4e-1bc60fa150e7\",\"type\":\"MonthsTicker\"},{\"attributes\":{},\"id\":\"21e3ae25-8b6c-4d9e-81ae-ba30a966cfef\",\"type\":\"YearsTicker\"}],\"root_ids\":[\"667b6879-e118-4ab6-adf2-2b890a7466ba\"]},\"title\":\"Bokeh Application\",\"version\":\"0.12.13\"}};\n",
       "  var render_items = [{\"docid\":\"d1b54cbd-f8a3-4fe9-89e4-3de29be2af44\",\"elementid\":\"43d13ca2-4c7a-4cb2-a822-71568993c82c\",\"modelid\":\"667b6879-e118-4ab6-adf2-2b890a7466ba\"}];\n",
       "  root.Bokeh.embed.embed_items_notebook(docs_json, render_items);\n",
       "\n",
       "  }\n",
       "  if (root.Bokeh !== undefined) {\n",
       "    embed_document(root);\n",
       "  } else {\n",
       "    var attempts = 0;\n",
       "    var timer = setInterval(function(root) {\n",
       "      if (root.Bokeh !== undefined) {\n",
       "        embed_document(root);\n",
       "        clearInterval(timer);\n",
       "      }\n",
       "      attempts++;\n",
       "      if (attempts > 100) {\n",
       "        console.log(\"Bokeh: ERROR: Unable to run BokehJS code because BokehJS library is missing\")\n",
       "        clearInterval(timer);\n",
       "      }\n",
       "    }, 10, root)\n",
       "  }\n",
       "})(window);"
      ],
      "application/vnd.bokehjs_exec.v0+json": ""
     },
     "metadata": {
      "application/vnd.bokehjs_exec.v0+json": {
       "id": "667b6879-e118-4ab6-adf2-2b890a7466ba"
      }
     },
     "output_type": "display_data"
    }
   ],
   "source": [
    "plot = figure(x_axis_type='datetime', plot_width = 800)\n",
    "source = ColumnDataSource(df_y)\n",
    "\n",
    "df_pred = pred_results.to_frame().reset_index().rename(columns={'index':'date',0:\"md5\"}).set_index('date')\n",
    "source2 = ColumnDataSource(df_pred)\n",
    "\n",
    "plot.line('date', 'md5', source=source)\n",
    "plot.line('date', 'md5', source = source2, line_color = 'red')\n",
    "plot.xaxis.major_label_orientation = math.pi/2\n",
    "\n",
    "show(plot)"
   ]
  },
  {
   "cell_type": "markdown",
   "metadata": {},
   "source": [
    "\n",
    "division\n"
   ]
  },
  {
   "cell_type": "code",
   "execution_count": 10,
   "metadata": {},
   "outputs": [],
   "source": [
    "%run /Users/c266770/Desktop/notebooks/proxy-load.ipynb"
   ]
  },
  {
   "cell_type": "code",
   "execution_count": 70,
   "metadata": {},
   "outputs": [],
   "source": [
    "import requests\n",
    "\n",
    "def vt_call(hashes):\n",
    "    if type(hashes) == list:\n",
    "        if len(hashes) < 5:\n",
    "            resource = ','.join(hashes)\n",
    "                \n",
    "        elif len(hashes) > 5:\n",
    "            resource = [hashes[i:i + 4] for i in range(0, len(hashes), 4)]\n",
    "        else:\n",
    "            return 'empty list?'\n",
    "    elif type(hashes) == str and len(hashes.split(',')) == 1:\n",
    "        resource = hashes\n",
    "    elif type(hashes) == str and len(hashes.split(',')) < 4:\n",
    "        resource = hashes\n",
    "    elif type(hashes) == str and len(hashes.split(',')) > 4:\n",
    "        hashes = hashes.split(',')\n",
    "        resource = [hashes[i:i + 4] for i in range(0, len(hashes), 4)]\n",
    "    else:\n",
    "        return ''\n",
    "    \n",
    "    headers = {\"Accept-Encoding\": \"gzip, deflate\",\n",
    "               \"User-Agent\" : \"python\"\n",
    "              }\n",
    "    \n",
    "    if type(resource != list):\n",
    "        params = {'apikey': api['vt'], 'resource': resource}\n",
    "        response = requests.get('https://www.virustotal.com/vtapi/v2/file/report',\n",
    "                                params = params, \n",
    "                                headers = headers,\n",
    "                                proxies = proxies)\n",
    "        return response.json()\n",
    "    else:\n",
    "        response = []\n",
    "        for hash_list in resource:\n",
    "            params = {'apikey': api['vt'], 'resource': ','.join(hash_list)}\n",
    "            vt_request = requests.get('https://www.virustotal.com/vtapi/v2/file/report',\n",
    "                                      params = params,\n",
    "                                      headers = headers,\n",
    "                                      proxies = proxies)\n",
    "            response = response + vt_request.json()\n",
    "            \n",
    "        return response"
   ]
  },
  {
   "cell_type": "code",
   "execution_count": 64,
   "metadata": {},
   "outputs": [],
   "source": [
    "test = ['866fcd320412a9fdd78aefc31372c74e',\n",
    "        '29c1a72fa565f339065d1f6c8a58de11',\n",
    "        '38acd35c1b04167823c83bbd8a12352c',\n",
    "        '28b78a1ab9f541a0a85cb853eb556fe8',\n",
    "        'ac8c1fa592b1551fd57072c371b7c748']"
   ]
  },
  {
   "cell_type": "code",
   "execution_count": 71,
   "metadata": {},
   "outputs": [
    {
     "data": {
      "text/plain": [
       "[]"
      ]
     },
     "execution_count": 71,
     "metadata": {},
     "output_type": "execute_result"
    }
   ],
   "source": [
    "vt_call(test)"
   ]
  },
  {
   "cell_type": "code",
   "execution_count": null,
   "metadata": {},
   "outputs": [],
   "source": []
  }
 ],
 "metadata": {
  "kernelspec": {
   "display_name": "Python 3",
   "language": "python",
   "name": "python3"
  },
  "language_info": {
   "codemirror_mode": {
    "name": "ipython",
    "version": 3
   },
   "file_extension": ".py",
   "mimetype": "text/x-python",
   "name": "python",
   "nbconvert_exporter": "python",
   "pygments_lexer": "ipython3",
   "version": "3.6.6"
  }
 },
 "nbformat": 4,
 "nbformat_minor": 2
}
