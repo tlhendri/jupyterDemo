{
 "cells": [
  {
   "cell_type": "markdown",
   "metadata": {},
   "source": [
    "<IMG src=\"images/title.jpg\">"
   ]
  },
  {
   "cell_type": "markdown",
   "metadata": {},
   "source": [
    "<p class=MsoNormal><span style='font-size:24.0pt'><o:p>&nbsp;</o:p></span></p>\n",
    "\n",
    "<p class=MsoNormal><span style='font-size:48.0pt'>Notebook Technologies<o:p></o:p></span></p>\n",
    "\n",
    "<p class=MsoNormal><span style='font-size:24.0pt'><o:p>&nbsp;</o:p></span></p>\n",
    "\n",
    "<p class=MsoListParagraphCxSpFirst style='margin-left:40.5pt;mso-add-space:\n",
    "auto;text-indent:-.5in;mso-list:l1 level1 lfo3'><span\n",
    "style='font-size:36.0pt;font-family:Symbol;mso-fareast-font-family:Symbol;\n",
    "mso-bidi-font-family:Symbol'><span style='mso-list:Ignore'>·<span\n",
    "style='font:7.0pt \"Times New Roman\"'>&nbsp;&nbsp;&nbsp;&nbsp;&nbsp;&nbsp;&nbsp;&nbsp;&nbsp;\n",
    "</span></span></span><span style='font-size:36.0pt'>Development<o:p></o:p></span></p>\n",
    "\n",
    "<p class=MsoListParagraphCxSpMiddle style='margin-left:40.5pt;mso-add-space:\n",
    "auto;text-indent:-.5in;mso-list:l1 level1 lfo3'><span\n",
    "style='font-size:36.0pt;font-family:Symbol;mso-fareast-font-family:Symbol;\n",
    "mso-bidi-font-family:Symbol'><span style='mso-list:Ignore'>·<span\n",
    "style='font:7.0pt \"Times New Roman\"'>&nbsp;&nbsp;&nbsp;&nbsp;&nbsp;&nbsp;&nbsp;&nbsp;&nbsp;\n",
    "</span></span></span><span style='font-size:36.0pt'>Sharing<o:p></o:p></span></p>\n",
    "\n",
    "<p class=MsoListParagraphCxSpMiddle style='margin-left:40.5pt;mso-add-space:\n",
    "auto;text-indent:-.5in;mso-list:l1 level1 lfo3'><span\n",
    "style='font-size:36.0pt;font-family:Symbol;mso-fareast-font-family:Symbol;\n",
    "mso-bidi-font-family:Symbol'><span style='mso-list:Ignore'>·<span\n",
    "style='font:7.0pt \"Times New Roman\"'>&nbsp;&nbsp;&nbsp;&nbsp;&nbsp;&nbsp;&nbsp;&nbsp;&nbsp;\n",
    "</span></span></span><span style='font-size:36.0pt'>Answers<o:p></o:p></span></p>\n",
    "\n",
    "<p class=MsoListParagraphCxSpLast style='margin-left:40.5pt;mso-add-space:auto;\n",
    "text-indent:-.5in;mso-list:l1 level1 lfo3'><span\n",
    "style='font-size:36.0pt;font-family:Symbol;mso-fareast-font-family:Symbol;\n",
    "mso-bidi-font-family:Symbol'><span style='mso-list:Ignore'>·<span\n",
    "style='font:7.0pt \"Times New Roman\"'>&nbsp;&nbsp;&nbsp;&nbsp;&nbsp;&nbsp;&nbsp;&nbsp;&nbsp;\n",
    "</span></span></span><span style='font-size:36.0pt'>Presentations?<o:p></o:p></span></p>"
   ]
  },
  {
   "cell_type": "markdown",
   "metadata": {},
   "source": [
    "<IMG src=\"images/internal_monologues.png\">"
   ]
  },
  {
   "cell_type": "markdown",
   "metadata": {},
   "source": [
    "<IMG src=\"images/intro.jpg\">"
   ]
  },
  {
   "cell_type": "markdown",
   "metadata": {},
   "source": [
    "<IMG src=\"images/notebooks.jpg\">\n"
   ]
  },
  {
   "cell_type": "markdown",
   "metadata": {},
   "source": [
    "<IMG src=\"images/useCases.jpg\">"
   ]
  },
  {
   "cell_type": "markdown",
   "metadata": {},
   "source": [
    "<p class=MsoNormal><span style='font-size:24.0pt'><o:p>&nbsp;</o:p></span></p>\n",
    "\n",
    "<p class=MsoNormal><span style='font-size:48.0pt'>Mapping events - the long way<o:p></o:p></span></p>\n",
    "\n",
    "<p class=MsoNormal><span style='font-size:24.0pt'><o:p>&nbsp;</o:p></span></p>\n",
    "\n",
    "<p class=MsoListParagraphCxSpFirst style='margin-left:40.5pt;mso-add-space:\n",
    "auto;text-indent:-.5in;mso-list:l1 level1 lfo3'><span\n",
    "style='font-size:36.0pt;font-family:Symbol;mso-fareast-font-family:Symbol;\n",
    "mso-bidi-font-family:Symbol'><span style='mso-list:Ignore'>·<span\n",
    "style='font:7.0pt \"Times New Roman\"'>&nbsp;&nbsp;&nbsp;&nbsp;&nbsp;&nbsp;&nbsp;&nbsp;&nbsp;\n",
    "</span></span></span><span style='font-size:36.0pt'>Carve GeoLite2 City into a dataframe<o:p></o:p></span></p>\n",
    "\n",
    "<p class=MsoListParagraphCxSpMiddle style='margin-left:40.5pt;mso-add-space:\n",
    "auto;text-indent:-.5in;mso-list:l1 level1 lfo3'><span\n",
    "style='font-size:36.0pt;font-family:Symbol;mso-fareast-font-family:Symbol;\n",
    "mso-bidi-font-family:Symbol'><span style='mso-list:Ignore'>·<span\n",
    "style='font:7.0pt \"Times New Roman\"'>&nbsp;&nbsp;&nbsp;&nbsp;&nbsp;&nbsp;&nbsp;&nbsp;&nbsp;\n",
    "</span></span></span><span style='font-size:36.0pt'>Trim the IDS logs based on directionality<o:p></o:p></span></p>\n",
    "\n",
    "<p class=MsoListParagraphCxSpMiddle style='margin-left:40.5pt;mso-add-space:\n",
    "auto;text-indent:-.5in;mso-list:l1 level1 lfo3'><span\n",
    "style='font-size:36.0pt;font-family:Symbol;mso-fareast-font-family:Symbol;\n",
    "mso-bidi-font-family:Symbol'><span style='mso-list:Ignore'>·<span\n",
    "style='font:7.0pt \"Times New Roman\"'>&nbsp;&nbsp;&nbsp;&nbsp;&nbsp;&nbsp;&nbsp;&nbsp;&nbsp;\n",
    "</span></span></span><span style='font-size:36.0pt'>Iterate events - Lookup long/lat<o:p></o:p></span></p>"
   ]
  },
  {
   "cell_type": "code",
   "execution_count": 1,
   "metadata": {},
   "outputs": [],
   "source": [
    "import ipaddress\n",
    "\n",
    "def string_to_ip(ipstring):\n",
    "    return ipaddress.ip_network(ipstring)"
   ]
  },
  {
   "cell_type": "code",
   "execution_count": 5,
   "metadata": {},
   "outputs": [],
   "source": [
    "#slow\n",
    "\n",
    "import pandas\n",
    "\n",
    "from zipfile import ZipFile\n",
    "with ZipFile('./Downloads/GeoLite2-City-CSV_20181113.zip') as zip:\n",
    "    df_maxmind = pandas.read_csv(zip.open('GeoLite2-City-CSV_20181113/GeoLite2-City-Blocks-IPv4.csv'))\n",
    "    \n",
    "df_maxmind = df_maxmind.reset_index()\n",
    "df_maxmind['network'] = df_maxmind['network'].apply(string_to_ip)\n"
   ]
  },
  {
   "cell_type": "code",
   "execution_count": 6,
   "metadata": {},
   "outputs": [
    {
     "data": {
      "text/html": [
       "<div>\n",
       "<style scoped>\n",
       "    .dataframe tbody tr th:only-of-type {\n",
       "        vertical-align: middle;\n",
       "    }\n",
       "\n",
       "    .dataframe tbody tr th {\n",
       "        vertical-align: top;\n",
       "    }\n",
       "\n",
       "    .dataframe thead th {\n",
       "        text-align: right;\n",
       "    }\n",
       "</style>\n",
       "<table border=\"1\" class=\"dataframe\">\n",
       "  <thead>\n",
       "    <tr style=\"text-align: right;\">\n",
       "      <th></th>\n",
       "      <th>index</th>\n",
       "      <th>network</th>\n",
       "      <th>geoname_id</th>\n",
       "      <th>registered_country_geoname_id</th>\n",
       "      <th>represented_country_geoname_id</th>\n",
       "      <th>is_anonymous_proxy</th>\n",
       "      <th>is_satellite_provider</th>\n",
       "      <th>postal_code</th>\n",
       "      <th>latitude</th>\n",
       "      <th>longitude</th>\n",
       "      <th>accuracy_radius</th>\n",
       "    </tr>\n",
       "  </thead>\n",
       "  <tbody>\n",
       "    <tr>\n",
       "      <th>0</th>\n",
       "      <td>0</td>\n",
       "      <td>1.0.0.0/24</td>\n",
       "      <td>2077456.0</td>\n",
       "      <td>2077456.0</td>\n",
       "      <td>NaN</td>\n",
       "      <td>0</td>\n",
       "      <td>0</td>\n",
       "      <td>NaN</td>\n",
       "      <td>-33.4940</td>\n",
       "      <td>143.2104</td>\n",
       "      <td>1000.0</td>\n",
       "    </tr>\n",
       "    <tr>\n",
       "      <th>1</th>\n",
       "      <td>1</td>\n",
       "      <td>1.0.1.0/24</td>\n",
       "      <td>1811017.0</td>\n",
       "      <td>1814991.0</td>\n",
       "      <td>NaN</td>\n",
       "      <td>0</td>\n",
       "      <td>0</td>\n",
       "      <td>NaN</td>\n",
       "      <td>24.4798</td>\n",
       "      <td>118.0819</td>\n",
       "      <td>50.0</td>\n",
       "    </tr>\n",
       "    <tr>\n",
       "      <th>2</th>\n",
       "      <td>2</td>\n",
       "      <td>1.0.2.0/23</td>\n",
       "      <td>1811017.0</td>\n",
       "      <td>1814991.0</td>\n",
       "      <td>NaN</td>\n",
       "      <td>0</td>\n",
       "      <td>0</td>\n",
       "      <td>NaN</td>\n",
       "      <td>24.4798</td>\n",
       "      <td>118.0819</td>\n",
       "      <td>50.0</td>\n",
       "    </tr>\n",
       "    <tr>\n",
       "      <th>3</th>\n",
       "      <td>3</td>\n",
       "      <td>1.0.4.0/22</td>\n",
       "      <td>2077456.0</td>\n",
       "      <td>2077456.0</td>\n",
       "      <td>NaN</td>\n",
       "      <td>0</td>\n",
       "      <td>0</td>\n",
       "      <td>NaN</td>\n",
       "      <td>-33.4940</td>\n",
       "      <td>143.2104</td>\n",
       "      <td>1000.0</td>\n",
       "    </tr>\n",
       "    <tr>\n",
       "      <th>4</th>\n",
       "      <td>4</td>\n",
       "      <td>1.0.8.0/21</td>\n",
       "      <td>1809935.0</td>\n",
       "      <td>1814991.0</td>\n",
       "      <td>NaN</td>\n",
       "      <td>0</td>\n",
       "      <td>0</td>\n",
       "      <td>NaN</td>\n",
       "      <td>23.1167</td>\n",
       "      <td>113.2500</td>\n",
       "      <td>50.0</td>\n",
       "    </tr>\n",
       "  </tbody>\n",
       "</table>\n",
       "</div>"
      ],
      "text/plain": [
       "   index     network  geoname_id  registered_country_geoname_id  \\\n",
       "0      0  1.0.0.0/24   2077456.0                      2077456.0   \n",
       "1      1  1.0.1.0/24   1811017.0                      1814991.0   \n",
       "2      2  1.0.2.0/23   1811017.0                      1814991.0   \n",
       "3      3  1.0.4.0/22   2077456.0                      2077456.0   \n",
       "4      4  1.0.8.0/21   1809935.0                      1814991.0   \n",
       "\n",
       "   represented_country_geoname_id  is_anonymous_proxy  is_satellite_provider  \\\n",
       "0                             NaN                   0                      0   \n",
       "1                             NaN                   0                      0   \n",
       "2                             NaN                   0                      0   \n",
       "3                             NaN                   0                      0   \n",
       "4                             NaN                   0                      0   \n",
       "\n",
       "  postal_code  latitude  longitude  accuracy_radius  \n",
       "0         NaN  -33.4940   143.2104           1000.0  \n",
       "1         NaN   24.4798   118.0819             50.0  \n",
       "2         NaN   24.4798   118.0819             50.0  \n",
       "3         NaN  -33.4940   143.2104           1000.0  \n",
       "4         NaN   23.1167   113.2500             50.0  "
      ]
     },
     "execution_count": 6,
     "metadata": {},
     "output_type": "execute_result"
    }
   ],
   "source": [
    "df_maxmind.head(5)"
   ]
  },
  {
   "cell_type": "code",
   "execution_count": 10,
   "metadata": {},
   "outputs": [],
   "source": [
    "import os\n",
    "import csv\n",
    "\n",
    "events = []\n",
    "directory = 'ids'\n",
    "for root,dirs,files in os.walk(directory):\n",
    "    for file in files:\n",
    "        if file.endswith('.csv') and file.startswith('cisco'):\n",
    "            with open(directory+'/'+file) as csvfile:\n",
    "                idscsv = csv.reader(csvfile)\n",
    "                next(idscsv)\n",
    "                for row in idscsv:\n",
    "                    events.append((row[3],row[6]))"
   ]
  },
  {
   "cell_type": "code",
   "execution_count": 12,
   "metadata": {},
   "outputs": [],
   "source": [
    "from collections import Counter\n",
    "bad_guys = []\n",
    "\n",
    "for idstuple in events:\n",
    "    if idstuple[0].startswith('40.'):\n",
    "        if idstuple[1].startswith('40.'):\n",
    "            continue\n",
    "        else:\n",
    "            bad_guys.append(idstuple[1])\n",
    "    else:\n",
    "        bad_guys.append(idstuple[0])\n",
    "\n",
    "worst_guys = {}\n",
    "for key,value in dict(Counter(bad_guys)).items():\n",
    "    worst_guys[key] = {}\n",
    "    worst_guys[key]['count'] = value"
   ]
  },
  {
   "cell_type": "markdown",
   "metadata": {},
   "source": [
    "<font size=\"10\"><p style=\"text-align: center;\">OMG NO!</p></font>"
   ]
  },
  {
   "cell_type": "code",
   "execution_count": null,
   "metadata": {},
   "outputs": [],
   "source": [
    "for bad_guy in worst_guys:\n",
    "    print(bad_guy)\n",
    "    df_temp = df_maxmind[df_maxmind.network.apply(lambda x: ipaddress.ip_address(bad_guy) in x)][[\"longitude\",\"latitude\"]]\n",
    "    df_temp = df_temp.reset_index()\n",
    "    worst_guys[bad_guy][\"longitude\"] = df_temp.at[0,\"longitude\"]\n",
    "    worst_guys[bad_guy][\"latitude\"] = df_temp.at[0,\"longitude\"]"
   ]
  },
  {
   "cell_type": "code",
   "execution_count": 14,
   "metadata": {},
   "outputs": [
    {
     "name": "stdout",
     "output_type": "stream",
     "text": [
      "💩\n"
     ]
    }
   ],
   "source": [
    "print('\\U0001F4A9')"
   ]
  },
  {
   "cell_type": "code",
   "execution_count": null,
   "metadata": {},
   "outputs": [],
   "source": [
    "from IPython.display import Audio\n",
    "Audio(filename='images/My Song.wav', autoplay=True)"
   ]
  },
  {
   "cell_type": "markdown",
   "metadata": {},
   "source": [
    "<p class=MsoNormal><span style='font-size:24.0pt'><o:p>&nbsp;</o:p></span></p>\n",
    "\n",
    "<p class=MsoNormal><span style='font-size:48.0pt'>Mapping events - the short way<o:p></o:p></span></p>\n",
    "\n",
    "<p class=MsoNormal><span style='font-size:24.0pt'><o:p>&nbsp;</o:p></span></p>\n",
    "\n",
    "<p class=MsoListParagraphCxSpFirst style='margin-left:40.5pt;mso-add-space:\n",
    "auto;text-indent:-.5in;mso-list:l1 level1 lfo3'><span\n",
    "style='font-size:36.0pt;font-family:Symbol;mso-fareast-font-family:Symbol;\n",
    "mso-bidi-font-family:Symbol'><span style='mso-list:Ignore'>·<span\n",
    "style='font:7.0pt \"Times New Roman\"'>&nbsp;&nbsp;&nbsp;&nbsp;&nbsp;&nbsp;&nbsp;&nbsp;&nbsp;\n",
    "</span></span></span><span style='font-size:36.0pt'>Use GeoLite2 library and database<o:p></o:p></span></p>\n",
    "\n",
    "<p class=MsoListParagraphCxSpMiddle style='margin-left:40.5pt;mso-add-space:\n",
    "auto;text-indent:-.5in;mso-list:l1 level1 lfo3'><span\n",
    "style='font-size:36.0pt;font-family:Symbol;mso-fareast-font-family:Symbol;\n",
    "mso-bidi-font-family:Symbol'><span style='mso-list:Ignore'>·<span\n",
    "style='font:7.0pt \"Times New Roman\"'>&nbsp;&nbsp;&nbsp;&nbsp;&nbsp;&nbsp;&nbsp;&nbsp;&nbsp;\n",
    "</span></span></span><span style='font-size:36.0pt'>Use the trimmed IDS logs<o:p></o:p></span></p>\n",
    "\n",
    "<p class=MsoListParagraphCxSpMiddle style='margin-left:40.5pt;mso-add-space:\n",
    "auto;text-indent:-.5in;mso-list:l1 level1 lfo3'><span\n",
    "style='font-size:36.0pt;font-family:Symbol;mso-fareast-font-family:Symbol;\n",
    "mso-bidi-font-family:Symbol'><span style='mso-list:Ignore'>·<span\n",
    "style='font:7.0pt \"Times New Roman\"'>&nbsp;&nbsp;&nbsp;&nbsp;&nbsp;&nbsp;&nbsp;&nbsp;&nbsp;\n",
    "</span></span></span><span style='font-size:36.0pt'>Push long and lat into dictionary<o:p></o:p></span></p>"
   ]
  },
  {
   "cell_type": "code",
   "execution_count": 15,
   "metadata": {},
   "outputs": [],
   "source": [
    "#https://dev.maxmind.com/geoip/geoip2/geolite2/\n",
    "#This product includes GeoLite2 data created by MaxMind, available from\n",
    "#<a href=\"http://www.maxmind.com\">http://www.maxmind.com</a>\n",
    "import geoip2.database\n",
    "reader = geoip2.database.Reader('Downloads/GeoLite2-City.mmdb')"
   ]
  },
  {
   "cell_type": "code",
   "execution_count": 16,
   "metadata": {},
   "outputs": [],
   "source": [
    "for bad_guy in worst_guys:\n",
    "    #print(bad_guy)\n",
    "    response = reader.city(bad_guy)\n",
    "    worst_guys[bad_guy][\"longitude\"] = round(response.location.longitude,3)\n",
    "    worst_guys[bad_guy][\"latitude\"] = round(response.location.latitude,3)"
   ]
  },
  {
   "cell_type": "code",
   "execution_count": 17,
   "metadata": {},
   "outputs": [],
   "source": [
    "location = []\n",
    "\n",
    "for bad_guy,values in worst_guys.items():\n",
    "    location.append((values['latitude'],values['longitude']))\n",
    "    \n",
    "location = set(location)"
   ]
  },
  {
   "cell_type": "code",
   "execution_count": 18,
   "metadata": {},
   "outputs": [],
   "source": [
    "import pickle\n",
    "\n",
    "with open('/Users/c266770/Desktop/pickles/api.pkl', 'rb') as f:\n",
    "    api = pickle.load(f)\n",
    "    \n",
    "def save_obj(obj, name):\n",
    "    with open(pickle_dir + name + '.pkl', 'wb') as f:\n",
    "        pickle.dump(obj, f, pickle.HIGHEST_PROTOCOL)\n",
    "\n",
    "def load_obj(name):\n",
    "    with open(pickle_dir + str(name) + '.pkl', 'rb') as f:\n",
    "        return pickle.load(f)"
   ]
  },
  {
   "cell_type": "code",
   "execution_count": null,
   "metadata": {},
   "outputs": [],
   "source": [
    "#https://jupyter-gmaps.readthedocs.io/en/latest/tutorial.html\n",
    "import gmaps\n",
    "import gmaps.datasets\n",
    "\n",
    "gmaps.configure(api['googleMaps'])"
   ]
  },
  {
   "cell_type": "code",
   "execution_count": null,
   "metadata": {},
   "outputs": [],
   "source": [
    "fig = gmaps.figure(center=(0,0),zoom_level=1.75, map_type='HYBRID')\n",
    "heatmap = gmaps.heatmap_layer(locations=location)\n",
    "fig.add_layer(heatmap)"
   ]
  },
  {
   "cell_type": "code",
   "execution_count": null,
   "metadata": {},
   "outputs": [],
   "source": [
    "fig"
   ]
  },
  {
   "cell_type": "markdown",
   "metadata": {},
   "source": [
    "<IMG src=\"images/war_game.gif\" width=800>"
   ]
  },
  {
   "cell_type": "markdown",
   "metadata": {},
   "source": [
    "Tangent - Vela incident"
   ]
  },
  {
   "cell_type": "code",
   "execution_count": null,
   "metadata": {},
   "outputs": [],
   "source": [
    "import os\n",
    "import csv\n",
    "import pandas\n",
    "import matplotlib.pyplot as plt"
   ]
  },
  {
   "cell_type": "code",
   "execution_count": null,
   "metadata": {},
   "outputs": [],
   "source": [
    "directory = '../reports/av'\n",
    "events = []\n",
    "\n",
    "for root,dirs,files in os.walk(directory):\n",
    "    for file in files:\n",
    "        if file.endswith('.csv') and file.startswith('av_daily'):\n",
    "            date = file.split('_')[2].split('.')[0].split('-')[0:3]\n",
    "            date = \"-\".join(date)\n",
    "            with open(directory+'/'+file) as csvfile:\n",
    "                devicescsv = csv.reader(csvfile)\n",
    "                for row in devicescsv:\n",
    "                    if len(row[0]) ==32:\n",
    "                        row.append(date)\n",
    "                        events.append(row)"
   ]
  },
  {
   "cell_type": "code",
   "execution_count": null,
   "metadata": {},
   "outputs": [],
   "source": [
    "labels = ['col1','col2','col3','col4','col5','col6','col7','col8','col9','col10']\n",
    "df_avReports = pandas.DataFrame.from_records(events, columns=labels)\n",
    "\n",
    "df_mcafeeAv = df_avReports[df_avReports.col2 == 'mcafee_av'][['col1','col4','col5','col8']]\n",
    "df_mcafeeAv = df_mcafeeAv.rename(index=str, columns={'col1':'md5','col4':'src_host','col5':'av_sig','col8':'date'})\n",
    "df_mcafeeAv['date'] = pandas.to_datetime(df_mcafeeAv['date'])\n",
    "#df_mcafeeAv.head(5)\n",
    "\n",
    "df_mcafeeHip = df_avReports[df_avReports.col2 == 'mcafee_hip'][['col1','col5','col9','col10']]\n",
    "df_mcafeeHip = df_mcafeeHip.rename(index=str, columns={'col1':'md5','col5':'src_host','col9':'av_sig','col10':'date'})\n",
    "df_mcafeeHip['date'] = pandas.to_datetime(df_mcafeeHip['date'])\n",
    "#df_mcafeeHip.head(5)\n",
    "\n",
    "df_cylance = df_avReports[df_avReports.col2 == 'cylance_av'][['col1','col5','col3','col7']]\n",
    "df_cylance.col1 = df_cylance.col1.map(lambda x: x.lower())\n",
    "df_cylance = df_cylance.rename(index=str, columns={'col1':'md5','col5':'src_host','col3':'av_sig','col7':'date'})\n",
    "df_cylance['date'] = pandas.to_datetime(df_cylance['date'])\n",
    "#df_cylance.head(5)\n",
    "\n",
    "dfs = [df_mcafeeAv, df_mcafeeHip, df_cylance]\n",
    "df_avcombo = pandas.concat(dfs)\n",
    "df_avcombo.head(5)"
   ]
  },
  {
   "cell_type": "code",
   "execution_count": null,
   "metadata": {},
   "outputs": [],
   "source": [
    "y = df_avcombo.groupby('date').count()['md5'].map(lambda x: float(x))\n",
    "df_y = pandas.DataFrame(y)\n",
    "df_y = df_y.asfreq('D')\n",
    "start = len(df_y) -10\n",
    "end = len(df_y) + 15"
   ]
  },
  {
   "cell_type": "code",
   "execution_count": null,
   "metadata": {},
   "outputs": [],
   "source": [
    "import statsmodels.api as sm\n",
    "\n",
    "mod = sm.tsa.statespace.SARIMAX(df_y,\n",
    "                                order=(0, 1, 1),\n",
    "                                seasonal_order=(1, 1, 1, 7),\n",
    "                                enforce_stationarity=False,\n",
    "                                enforce_invertibility=False)\n",
    "results = mod.fit()"
   ]
  },
  {
   "cell_type": "code",
   "execution_count": null,
   "metadata": {},
   "outputs": [],
   "source": [
    "pred_results = results.predict(start=start, end=end, dynamic=True)\n",
    "\n",
    "ax = df_y.plot(label='observed', figsize=(20, 15))\n",
    "pred_results.plot(ax=ax, label='forecast')\n",
    "plt.legend()"
   ]
  },
  {
   "cell_type": "code",
   "execution_count": null,
   "metadata": {},
   "outputs": [],
   "source": [
    "from bokeh.plotting import figure, show\n",
    "from bokeh.io import output_notebook\n",
    "from bokeh.models import ColumnDataSource\n",
    "import math\n",
    "\n",
    "output_notebook()"
   ]
  },
  {
   "cell_type": "markdown",
   "metadata": {},
   "source": [
    "## You doing ok?"
   ]
  },
  {
   "cell_type": "markdown",
   "metadata": {},
   "source": [
    "## a: I'm doing bokeh"
   ]
  },
  {
   "cell_type": "code",
   "execution_count": null,
   "metadata": {},
   "outputs": [],
   "source": [
    "plot = figure(x_axis_type='datetime', plot_width = 800)\n",
    "source = ColumnDataSource(df_y)\n",
    "\n",
    "df_pred = pred_results.to_frame().reset_index().rename(columns={'index':'date',0:\"md5\"}).set_index('date')\n",
    "source2 = ColumnDataSource(df_pred)\n",
    "\n",
    "plot.line('date', 'md5', source=source)\n",
    "plot.line('date', 'md5', source = source2, line_color = 'red')\n",
    "plot.xaxis.major_label_orientation = math.pi/2\n",
    "\n",
    "show(plot)"
   ]
  },
  {
   "cell_type": "markdown",
   "metadata": {},
   "source": [
    "# API"
   ]
  },
  {
   "cell_type": "code",
   "execution_count": 20,
   "metadata": {},
   "outputs": [],
   "source": [
    "%run /Users/c266770/Desktop/notebooks/proxy-load.ipynb"
   ]
  },
  {
   "cell_type": "code",
   "execution_count": null,
   "metadata": {},
   "outputs": [],
   "source": [
    "import requests\n",
    "\n",
    "def vt_call(hashes):\n",
    "    from time import sleep \n",
    "    \n",
    "    if type(hashes) == list:\n",
    "        if len(hashes) < 5:\n",
    "            resource = ','.join(hashes)\n",
    "                \n",
    "        elif len(hashes) >= 5:\n",
    "            resource = [hashes[i:i + 4] for i in range(0, len(hashes), 4)]\n",
    "        else:\n",
    "            return 'empty list?'\n",
    "    elif type(hashes) == str and len(hashes.split(',')) == 1:\n",
    "        resource = hashes\n",
    "    elif type(hashes) == str and len(hashes.split(',')) < 4:\n",
    "        resource = hashes\n",
    "    elif type(hashes) == str and len(hashes.split(',')) > 4:\n",
    "        hashes = hashes.split(',')\n",
    "        resource = [hashes[i:i + 4] for i in range(0, len(hashes), 4)]\n",
    "    else:\n",
    "        return ''\n",
    "    \n",
    "    headers = {\"Accept-Encoding\": \"gzip, deflate\",\n",
    "               \"User-Agent\" : \"python\"\n",
    "              }\n",
    "    \n",
    "    if type(resource) != list:\n",
    "        params = {'apikey': api['vt'], 'resource': resource}\n",
    "        response = requests.get('https://www.virustotal.com/vtapi/v2/file/report',\n",
    "                                params = params, \n",
    "                                headers = headers,\n",
    "                                proxies = proxies)\n",
    "        return response.json()\n",
    "    else:\n",
    "        response = []\n",
    "        for hash_list in resource:\n",
    "            params = {'apikey': api['vt'], 'resource': ','.join(hash_list)}\n",
    "            vt_request = requests.get('https://www.virustotal.com/vtapi/v2/file/report',\n",
    "                                      params = params,\n",
    "                                      headers = headers,\n",
    "                                      proxies = proxies)\n",
    "            new_stuff = vt_request.json()\n",
    "            if type(new_stuff) == dict:\n",
    "                temp_list = []\n",
    "                temp_list.append(new_stuff)\n",
    "                response = response + temp_list\n",
    "            else:\n",
    "                response = response + new_stuff\n",
    "            \n",
    "        return response"
   ]
  },
  {
   "cell_type": "code",
   "execution_count": null,
   "metadata": {},
   "outputs": [],
   "source": [
    "test = ['866fcd320412a9fdd78aefc31372c74e',\n",
    "        '29c1a72fa565f339065d1f6c8a58de11',\n",
    "        '38acd35c1b04167823c83bbd8a12352c',\n",
    "        '28b78a1ab9f541a0a85cb853eb556fe8',\n",
    "        'ac8c1fa592b1551fd57072c371b7c748']"
   ]
  },
  {
   "cell_type": "code",
   "execution_count": null,
   "metadata": {},
   "outputs": [],
   "source": [
    "for hash in vt_call(test):\n",
    "    print(hash['md5'],hash['positives'])"
   ]
  },
  {
   "cell_type": "code",
   "execution_count": null,
   "metadata": {},
   "outputs": [],
   "source": [
    "!docker run -p 8080:8080 --rm \\\n",
    "    -v $PWD/logs:/logs -v $PWD/notebook:/notebook \\\n",
    "    -e ZEPPELIN_LOG_DIR='/logs' \\\n",
    "    -e ZEPPELIN_NOTEBOOK_DIR='/notebook' \\\n",
    "    --name zeppelin apache/zeppelin:0.8.0"
   ]
  },
  {
   "cell_type": "code",
   "execution_count": null,
   "metadata": {},
   "outputs": [],
   "source": []
  },
  {
   "cell_type": "code",
   "execution_count": null,
   "metadata": {},
   "outputs": [],
   "source": []
  }
 ],
 "metadata": {
  "kernelspec": {
   "display_name": "Python 3",
   "language": "python",
   "name": "python3"
  },
  "language_info": {
   "codemirror_mode": {
    "name": "ipython",
    "version": 3
   },
   "file_extension": ".py",
   "mimetype": "text/x-python",
   "name": "python",
   "nbconvert_exporter": "python",
   "pygments_lexer": "ipython3",
   "version": "3.6.6"
  }
 },
 "nbformat": 4,
 "nbformat_minor": 2
}
